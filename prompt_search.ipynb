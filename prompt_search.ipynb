{
 "cells": [
  {
   "cell_type": "code",
   "execution_count": 1,
   "metadata": {},
   "outputs": [],
   "source": [
    "import ctypes\n",
    "\n",
    "from llama_cpp import llama_log_set\n",
    "\n",
    "def my_log_callback(level, message, user_data):\n",
    "    pass\n",
    "\n",
    "log_callback = ctypes.CFUNCTYPE(None, ctypes.c_int, ctypes.c_char_p, ctypes.c_void_p)(my_log_callback)\n",
    "llama_log_set(log_callback, ctypes.c_void_p())"
   ]
  },
  {
   "cell_type": "code",
   "execution_count": 2,
   "metadata": {},
   "outputs": [],
   "source": [
    "from llama_cpp import Llama\n",
    "llm_path = \"./llama-2-7b-chat.Q5_K_M.gguf\"\n",
    "llm = Llama(model_path=llm_path, verbose=False)"
   ]
  },
  {
   "cell_type": "code",
   "execution_count": 4,
   "metadata": {},
   "outputs": [
    {
     "name": "stdout",
     "output_type": "stream",
     "text": [
      "Evaluating prompt \"What is the emotion of the following text?\" on 100 training samples of the go emotions dataset\n"
     ]
    },
    {
     "name": "stderr",
     "output_type": "stream",
     "text": [
      "  1%|          | 1/100 [00:11<18:13, 11.04s/it]"
     ]
    },
    {
     "name": "stdout",
     "output_type": "stream",
     "text": [
      "Prompt:\t Q: What is the emotion of the following text? Text: Context is lost in the article, no way to know how it was asked or how the person was behaving. A:\n",
      "Answer:\t  The emotion of this text is likely frustration or annoyance. The use of the word \"lost\" and the phrase \"no way to know\" suggests a sense of disappointment or dismay at the lack of information provided in the article.\n",
      "GT:\t surprise\n",
      "Y:\t annoyance disappointment\n"
     ]
    },
    {
     "name": "stderr",
     "output_type": "stream",
     "text": [
      "  2%|▏         | 2/100 [00:27<23:41, 14.50s/it]"
     ]
    },
    {
     "name": "stdout",
     "output_type": "stream",
     "text": [
      "Prompt:\t Q: What is the emotion of the following text? Text: Yeah? I’ll believe it when the Packard plant is a bigger version of the Factory at franklin A:\n",
      "Answer:\t  The emotion in this text is likely skepticism or disbelief. The use of the phrase \"I'll believe it\" and the comparison to the \"Factory at Franklin\" suggest that the author does not currently accept the claim being made and may be expressing doubts about its validity.\n",
      "GT:\t pride\n",
      "Y:\t \n"
     ]
    },
    {
     "name": "stderr",
     "output_type": "stream",
     "text": [
      "  3%|▎         | 3/100 [00:36<19:00, 11.76s/it]"
     ]
    },
    {
     "name": "stdout",
     "output_type": "stream",
     "text": [
      "Prompt:\t Q: What is the emotion of the following text? Text: PAC man looks too fast A:\n",
      "Answer:\t  The emotion in the text is likely amusement or humor, as it uses a playful and exaggerated description of Pac-Man's speed to create a humorous effect.\n",
      "GT:\t admiration\n",
      "Y:\t amusement\n"
     ]
    },
    {
     "name": "stderr",
     "output_type": "stream",
     "text": [
      "  4%|▍         | 4/100 [00:59<25:44, 16.09s/it]"
     ]
    },
    {
     "name": "stdout",
     "output_type": "stream",
     "text": [
      "Prompt:\t Q: What is the emotion of the following text? Text: Haha thanks, I'm not cool at all but that comment made my day! Genuinely made me smile. <3 A:\n",
      "Answer:\t  The emotion of the text is most likely \"Humor\" or \"Playfulness\". The use of the phrase \"not cool at all\" and the exclamation point after \"made my day!\" suggest a lighthearted and playful tone, which is consistent with the emotion of humor. Additionally, the closing \" <3\" symbol may indicate a friendly or affectionate sentiment, further supporting the interpretation of humor as the primary emotion in this text.\n",
      "GT:\t amusement gratitude joy\n",
      "Y:\t \n"
     ]
    },
    {
     "name": "stderr",
     "output_type": "stream",
     "text": [
      "  5%|▌         | 5/100 [01:10<22:34, 14.26s/it]"
     ]
    },
    {
     "name": "stdout",
     "output_type": "stream",
     "text": [
      "Prompt:\t Q: What is the emotion of the following text? Text: I isst thought y’all woooshed me but then I realized what subreddit I’m on A:\n",
      "Answer:\t  The emotion of the text is most likely humor or irony, as the author is poking fun at their own mistake and using colloquial language to add to the comedic effect.\n",
      "GT:\t pride\n",
      "Y:\t \n"
     ]
    },
    {
     "name": "stderr",
     "output_type": "stream",
     "text": [
      "100%|██████████| 100/100 [18:18<00:00, 10.99s/it]\n"
     ]
    },
    {
     "name": "stdout",
     "output_type": "stream",
     "text": [
      "> Accuracy: 93.50%\n",
      "> Recall: 15.62%\n",
      "> Precision: 21.28%\n",
      "\n",
      "> F1 score: 18.02%\n",
      "\n",
      "Evaluating prompt \"List the emotions of the following text\" on 100 training samples of the go emotions dataset\n"
     ]
    },
    {
     "name": "stderr",
     "output_type": "stream",
     "text": [
      "  1%|          | 1/100 [00:04<07:58,  4.84s/it]"
     ]
    },
    {
     "name": "stdout",
     "output_type": "stream",
     "text": [
      "Prompt:\t Q: List the emotions of the following text Text: Context is lost in the article, no way to know how it was asked or how the person was behaving. A:\n",
      "Answer:\t  Annoyance\n",
      "GT:\t surprise\n",
      "Y:\t annoyance\n"
     ]
    },
    {
     "name": "stderr",
     "output_type": "stream",
     "text": [
      "  2%|▏         | 2/100 [00:19<16:54, 10.35s/it]"
     ]
    },
    {
     "name": "stdout",
     "output_type": "stream",
     "text": [
      "Prompt:\t Q: List the emotions of the following text Text: Yeah? I’ll believe it when the Packard plant is a bigger version of the Factory at franklin A:\n",
      "Answer:\t  Sure! Here are the emotions present in the text: Excitement - \"Yeah?\" Curiosity - \"I'll believe it when...\" Hope - \"a bigger version of the Factory at Franklin\"\n",
      "GT:\t pride\n",
      "Y:\t curiosity excitement\n"
     ]
    },
    {
     "name": "stderr",
     "output_type": "stream",
     "text": [
      "  3%|▎         | 3/100 [01:25<58:24, 36.13s/it]"
     ]
    },
    {
     "name": "stdout",
     "output_type": "stream",
     "text": [
      "Prompt:\t Q: List the emotions of the following text Text: PAC man looks too fast A:\n",
      "Answer:\t  Here are the emotions that can be identified in the given text: 1. Excitement - \"PAC Man looks too fast\" suggests a sense of thrill and speed, which can evoke feelings of excitement in the reader. 2. Curiosity - The use of the word \"too\" implies a sense of wonder or curiosity about PAC Man's speed, which can pique the reader's interest. 3. Surprise - The statement may also elicit a sense of surprise at how fast PAC Man is moving, as it is unexpected and attention-grabbing.\n",
      "GT:\t admiration\n",
      "Y:\t curiosity excitement surprise\n"
     ]
    },
    {
     "name": "stderr",
     "output_type": "stream",
     "text": [
      "  4%|▍         | 4/100 [02:01<57:39, 36.03s/it]"
     ]
    },
    {
     "name": "stdout",
     "output_type": "stream",
     "text": [
      "Prompt:\t Q: List the emotions of the following text Text: Haha thanks, I'm not cool at all but that comment made my day! Genuinely made me smile. <3 A:\n",
      "Answer:\t  The emotions in this text are: Haha (happiness), thanks (gratitude), I'm not cool at all (humility), but (contrast), made my day! (happiness), and <3 (affection).\n",
      "GT:\t amusement gratitude joy\n",
      "Y:\t gratitude\n"
     ]
    },
    {
     "name": "stderr",
     "output_type": "stream",
     "text": [
      "  5%|▌         | 5/100 [02:27<51:09, 32.31s/it]"
     ]
    },
    {
     "name": "stdout",
     "output_type": "stream",
     "text": [
      "Prompt:\t Q: List the emotions of the following text Text: I isst thought y’all woooshed me but then I realized what subreddit I’m on A:\n",
      "Answer:\t  The following are the emotions expressed in the given text: 1. Anger (“I thought y’all wooshed me”) 2. Realization (“then I realized what subreddit I’m on”)\n",
      "GT:\t pride\n",
      "Y:\t anger realization\n"
     ]
    },
    {
     "name": "stderr",
     "output_type": "stream",
     "text": [
      "100%|██████████| 100/100 [19:50<00:00, 11.91s/it]\n"
     ]
    },
    {
     "name": "stdout",
     "output_type": "stream",
     "text": [
      "> Accuracy: 93.46%\n",
      "> Recall: 14.84%\n",
      "> Precision: 20.43%\n",
      "\n",
      "> F1 score: 17.19%\n",
      "\n",
      "Evaluating prompt \"Say what the emotions in the following text are\" on 100 training samples of the go emotions dataset\n"
     ]
    },
    {
     "name": "stderr",
     "output_type": "stream",
     "text": [
      "  1%|          | 1/100 [00:18<30:33, 18.52s/it]"
     ]
    },
    {
     "name": "stdout",
     "output_type": "stream",
     "text": [
      "Prompt:\t Q: Say what the emotions in the following text are Text: Context is lost in the article, no way to know how it was asked or how the person was behaving. A:\n",
      "Answer:\t  The emotions in the text are frustration and annoyance. Frustration is indicated by the use of the phrase \"Context is lost,\" which suggests a sense of confusion and helplessness. Annoyance is indicated by the use of the phrase \"No way to know,\" which suggests a sense of irritation or exasperation.\n",
      "GT:\t surprise\n",
      "Y:\t annoyance confusion\n"
     ]
    },
    {
     "name": "stderr",
     "output_type": "stream",
     "text": [
      "  2%|▏         | 2/100 [00:44<37:33, 22.99s/it]"
     ]
    },
    {
     "name": "stdout",
     "output_type": "stream",
     "text": [
      "Prompt:\t Q: Say what the emotions in the following text are Text: Yeah? I’ll believe it when the Packard plant is a bigger version of the Factory at franklin A:\n",
      "Answer:\t  The text presents a mix of emotions. Here are some possible interpretations: 1. Skepticism or Disbelief - \"Yeah?\" suggests a tone of skepticism or disbelief, as if the speaker doesn't think it's possible or likely that the Packard plant will become a bigger version of the Factory at Franklin. 2. Frustration or Exasperation - The use of \"yeah\" in this context could also imply frustration or exasperation with the idea that the Packard plant is being presented as a success story. 3. Hope or Opt\n",
      "GT:\t pride\n",
      "Y:\t \n"
     ]
    },
    {
     "name": "stderr",
     "output_type": "stream",
     "text": [
      "  3%|▎         | 3/100 [00:54<27:32, 17.04s/it]"
     ]
    },
    {
     "name": "stdout",
     "output_type": "stream",
     "text": [
      "Prompt:\t Q: Say what the emotions in the following text are Text: PAC man looks too fast A:\n",
      "Answer:\t  The emotion in this text is likely excitement or enthusiasm. PAC man is a popular video game character known for his speed, so someone who says he looks too fast may be expressing admiration or excitement at his abilities.\n",
      "GT:\t admiration\n",
      "Y:\t admiration excitement\n"
     ]
    },
    {
     "name": "stderr",
     "output_type": "stream",
     "text": [
      "  4%|▍         | 4/100 [01:03<22:06, 13.81s/it]"
     ]
    },
    {
     "name": "stdout",
     "output_type": "stream",
     "text": [
      "Prompt:\t Q: Say what the emotions in the following text are Text: Haha thanks, I'm not cool at all but that comment made my day! Genuinely made me smile. <3 A:\n",
      "Answer:\t  The emotions in the text are happiness (haha), smiling (genuinely made me smile), and love (<3).\n",
      "GT:\t amusement gratitude joy\n",
      "Y:\t love\n"
     ]
    },
    {
     "name": "stderr",
     "output_type": "stream",
     "text": [
      "  5%|▌         | 5/100 [01:09<17:28, 11.03s/it]"
     ]
    },
    {
     "name": "stdout",
     "output_type": "stream",
     "text": [
      "Prompt:\t Q: Say what the emotions in the following text are Text: I isst thought y’all woooshed me but then I realized what subreddit I’m on A:\n",
      "Answer:\t  The emotions in the text are likely confusion, shock, and amusement.\n",
      "GT:\t pride\n",
      "Y:\t amusement confusion\n"
     ]
    },
    {
     "name": "stderr",
     "output_type": "stream",
     "text": [
      "100%|██████████| 100/100 [14:04<00:00,  8.45s/it]\n"
     ]
    },
    {
     "name": "stdout",
     "output_type": "stream",
     "text": [
      "> Accuracy: 92.86%\n",
      "> Recall: 14.06%\n",
      "> Precision: 16.67%\n",
      "\n",
      "> F1 score: 15.25%\n",
      "\n",
      "Evaluating prompt \"What are the emotions of the following text?\" on 100 training samples of the go emotions dataset\n"
     ]
    },
    {
     "name": "stderr",
     "output_type": "stream",
     "text": [
      "  1%|          | 1/100 [00:06<11:17,  6.84s/it]"
     ]
    },
    {
     "name": "stdout",
     "output_type": "stream",
     "text": [
      "Prompt:\t Q: What are the emotions of the following text? Text: Context is lost in the article, no way to know how it was asked or how the person was behaving. A:\n",
      "Answer:\t  The emotions of the text are anger and frustration.\n",
      "GT:\t surprise\n",
      "Y:\t anger\n"
     ]
    },
    {
     "name": "stderr",
     "output_type": "stream",
     "text": [
      "  2%|▏         | 2/100 [00:15<12:53,  7.89s/it]"
     ]
    },
    {
     "name": "stdout",
     "output_type": "stream",
     "text": [
      "Prompt:\t Q: What are the emotions of the following text? Text: Yeah? I’ll believe it when the Packard plant is a bigger version of the Factory at franklin A:\n",
      "Answer:\t  The emotions of the following text are likely a mix of excitement, skepticism, and hope. Here's why:\n",
      "GT:\t pride\n",
      "Y:\t excitement\n"
     ]
    },
    {
     "name": "stderr",
     "output_type": "stream",
     "text": [
      "  3%|▎         | 3/100 [00:47<30:43, 19.00s/it]"
     ]
    },
    {
     "name": "stdout",
     "output_type": "stream",
     "text": [
      "Prompt:\t Q: What are the emotions of the following text? Text: PAC man looks too fast A:\n",
      "Answer:\t  The emotions in this text are likely to be: - Surprise: \"Pac Man looks too fast\" is unexpected and might make the reader do a double take, especially if they are not familiar with the game. Intrigue: The use of the word \"too\" implies that there is something unusual or interesting about Pac-Man's speed, which could pique the reader's curiosity. Excitement: The idea of a character moving quickly and efficiently can be thrilling, especially in a game where timing and reflexes are key. Amusement: The text could also evoke a lighthearted\n",
      "GT:\t admiration\n",
      "Y:\t amusement curiosity excitement surprise\n"
     ]
    },
    {
     "name": "stderr",
     "output_type": "stream",
     "text": [
      "  4%|▍         | 4/100 [00:53<21:57, 13.72s/it]"
     ]
    },
    {
     "name": "stdout",
     "output_type": "stream",
     "text": [
      "Prompt:\t Q: What are the emotions of the following text? Text: Haha thanks, I'm not cool at all but that comment made my day! Genuinely made me smile. <3 A:\n",
      "Answer:\t  The emotions in this text are:\n",
      "GT:\t amusement gratitude joy\n",
      "Y:\t \n"
     ]
    },
    {
     "name": "stderr",
     "output_type": "stream",
     "text": [
      "  5%|▌         | 5/100 [01:00<18:14, 11.52s/it]"
     ]
    },
    {
     "name": "stdout",
     "output_type": "stream",
     "text": [
      "Prompt:\t Q: What are the emotions of the following text? Text: I isst thought y’all woooshed me but then I realized what subreddit I’m on A:\n",
      "Answer:\t  The emotions in this text are likely to be irony, humor, and possibly shock or confusion.\n",
      "GT:\t pride\n",
      "Y:\t confusion\n"
     ]
    },
    {
     "name": "stderr",
     "output_type": "stream",
     "text": [
      "100%|██████████| 100/100 [29:48<00:00, 17.89s/it]\n"
     ]
    },
    {
     "name": "stdout",
     "output_type": "stream",
     "text": [
      "> Accuracy: 92.54%\n",
      "> Recall: 14.84%\n",
      "> Precision: 15.97%\n",
      "\n",
      "> F1 score: 15.38%\n",
      "\n",
      "Evaluating prompt \"Which are the emotions present in the following text?\" on 100 training samples of the go emotions dataset\n"
     ]
    },
    {
     "name": "stderr",
     "output_type": "stream",
     "text": [
      "  1%|          | 1/100 [00:10<17:17, 10.48s/it]"
     ]
    },
    {
     "name": "stdout",
     "output_type": "stream",
     "text": [
      "Prompt:\t Q: Which are the emotions present in the following text? Text: Context is lost in the article, no way to know how it was asked or how the person was behaving. A:\n",
      "Answer:\t  The text expresses several emotions, including frustration (no way to know), disappointment (lost context), and confusion (how it was asked or how the person was behaving).\n",
      "GT:\t surprise\n",
      "Y:\t confusion disappointment\n"
     ]
    },
    {
     "name": "stderr",
     "output_type": "stream",
     "text": [
      "  2%|▏         | 2/100 [00:15<11:49,  7.24s/it]"
     ]
    },
    {
     "name": "stdout",
     "output_type": "stream",
     "text": [
      "Prompt:\t Q: Which are the emotions present in the following text? Text: Yeah? I’ll believe it when the Packard plant is a bigger version of the Factory at franklin A:\n",
      "Answer:\t  According to the text, the following emotions are present:\n",
      "GT:\t pride\n",
      "Y:\t \n"
     ]
    },
    {
     "name": "stderr",
     "output_type": "stream",
     "text": [
      "  3%|▎         | 3/100 [00:21<11:09,  6.90s/it]"
     ]
    },
    {
     "name": "stdout",
     "output_type": "stream",
     "text": [
      "Prompt:\t Q: Which are the emotions present in the following text? Text: PAC man looks too fast A:\n",
      "Answer:\t  The emotions present in the given text are: 1. Dissatisfaction (PAC man looks too fast) 2. Speedy (fast)\n",
      "GT:\t admiration\n",
      "Y:\t \n"
     ]
    },
    {
     "name": "stderr",
     "output_type": "stream",
     "text": [
      "  4%|▍         | 4/100 [00:30<12:18,  7.70s/it]"
     ]
    },
    {
     "name": "stdout",
     "output_type": "stream",
     "text": [
      "Prompt:\t Q: Which are the emotions present in the following text? Text: Haha thanks, I'm not cool at all but that comment made my day! Genuinely made me smile. <3 A:\n",
      "Answer:\t  The emotions present in this text are happiness (haha), sarcasm (I'm not cool at all), and love or affection (<3).\n",
      "GT:\t amusement gratitude joy\n",
      "Y:\t love\n"
     ]
    },
    {
     "name": "stderr",
     "output_type": "stream",
     "text": [
      "  5%|▌         | 5/100 [00:49<18:21, 11.60s/it]"
     ]
    },
    {
     "name": "stdout",
     "output_type": "stream",
     "text": [
      "Prompt:\t Q: Which are the emotions present in the following text? Text: I isst thought y’all woooshed me but then I realized what subreddit I’m on A:\n",
      "Answer:\t  The emotions present in the following text are surprise, relief, and humor.  Surprise is evident from the use of the word “woooshed,” which implies a sudden and unexpected event. Relief is present because the speaker realizes they are not actually in danger, despite their initial reaction. Humor is also present due to the play on words with “subreddit” and the irony of being on a forum for discussing Reddit.\n",
      "GT:\t pride\n",
      "Y:\t anger relief surprise\n"
     ]
    },
    {
     "name": "stderr",
     "output_type": "stream",
     "text": [
      "100%|██████████| 100/100 [13:10<00:00,  7.91s/it]\n"
     ]
    },
    {
     "name": "stdout",
     "output_type": "stream",
     "text": [
      "> Accuracy: 93.68%\n",
      "> Recall: 17.19%\n",
      "> Precision: 23.66%\n",
      "\n",
      "> F1 score: 19.91%\n",
      "\n",
      "Evaluating prompt \"Write a list of all the emotions in the following text\" on 100 training samples of the go emotions dataset\n"
     ]
    },
    {
     "name": "stderr",
     "output_type": "stream",
     "text": [
      "  1%|          | 1/100 [00:03<06:32,  3.96s/it]"
     ]
    },
    {
     "name": "stdout",
     "output_type": "stream",
     "text": [
      "Prompt:\t Q: Write a list of all the emotions in the following text Text: Context is lost in the article, no way to know how it was asked or how the person was behaving. A:\n",
      "Answer:\t  Angry\n",
      "GT:\t surprise\n",
      "Y:\t \n"
     ]
    },
    {
     "name": "stderr",
     "output_type": "stream",
     "text": [
      "  2%|▏         | 2/100 [00:15<13:22,  8.19s/it]"
     ]
    },
    {
     "name": "stdout",
     "output_type": "stream",
     "text": [
      "Prompt:\t Q: Write a list of all the emotions in the following text Text: Yeah? I’ll believe it when the Packard plant is a bigger version of the Factory at franklin A:\n",
      "Answer:\t  Here are the emotions present in the given text: 1.  Belief 2. Disbelief/Skepticism 3. Excitement/Optimism 4. Confirmation/ Validation\n",
      "GT:\t pride\n",
      "Y:\t excitement optimism\n"
     ]
    },
    {
     "name": "stderr",
     "output_type": "stream",
     "text": [
      "  3%|▎         | 3/100 [00:31<19:29, 12.06s/it]"
     ]
    },
    {
     "name": "stdout",
     "output_type": "stream",
     "text": [
      "Prompt:\t Q: Write a list of all the emotions in the following text Text: PAC man looks too fast A:\n",
      "Answer:\t  Here are the emotions present in the text: 1.\tToo - indicates that the reader may feel surprise or amazement at how quickly PAC man is moving. 2. Fast - this word can be interpreted as a sense of urgency, excitement, or even fear depending on the context in which it is used. In this case, it likely conveys a sense of urgency or excitement due to PAC man's quick movements.\n",
      "GT:\t admiration\n",
      "Y:\t excitement fear surprise\n"
     ]
    },
    {
     "name": "stderr",
     "output_type": "stream",
     "text": [
      "  4%|▍         | 4/100 [00:35<13:52,  8.67s/it]"
     ]
    },
    {
     "name": "stdout",
     "output_type": "stream",
     "text": [
      "Prompt:\t Q: Write a list of all the emotions in the following text Text: Haha thanks, I'm not cool at all but that comment made my day! Genuinely made me smile. <3 A:\n",
      "Answer:\t \n",
      "GT:\t amusement gratitude joy\n",
      "Y:\t \n"
     ]
    },
    {
     "name": "stderr",
     "output_type": "stream",
     "text": [
      "  5%|▌         | 5/100 [00:43<13:16,  8.38s/it]"
     ]
    },
    {
     "name": "stdout",
     "output_type": "stream",
     "text": [
      "Prompt:\t Q: Write a list of all the emotions in the following text Text: I isst thought y’all woooshed me but then I realized what subreddit I’m on A:\n",
      "Answer:\t  1. Certainty 2. Disbelief 3. Confusion 4. Realization 5. Embarrassment\n",
      "GT:\t pride\n",
      "Y:\t confusion embarrassment realization\n"
     ]
    },
    {
     "name": "stderr",
     "output_type": "stream",
     "text": [
      "100%|██████████| 100/100 [11:33<00:00,  6.94s/it]\n"
     ]
    },
    {
     "name": "stdout",
     "output_type": "stream",
     "text": [
      "> Accuracy: 93.21%\n",
      "> Recall: 9.38%\n",
      "> Precision: 13.95%\n",
      "\n",
      "> F1 score: 11.21%\n",
      "\n",
      "Evaluating prompt \"Write all the emotions in the following text, include synonyms which are nouns and be repetitive\" on 100 training samples of the go emotions dataset\n"
     ]
    },
    {
     "name": "stderr",
     "output_type": "stream",
     "text": [
      "  1%|          | 1/100 [00:12<21:09, 12.82s/it]"
     ]
    },
    {
     "name": "stdout",
     "output_type": "stream",
     "text": [
      "Prompt:\t Q: Write all the emotions in the following text, include synonyms which are nouns and be repetitive Text: Context is lost in the article, no way to know how it was asked or how the person was behaving. A:\n",
      "Answer:\t  Angst, Anguish, Chagrin, Disbelief, Dismay, Frustration, Horror, Indignation, Outrage, Perplexity, Rage, Shock, Surprise, Vexation\n",
      "GT:\t surprise\n",
      "Y:\t surprise\n"
     ]
    },
    {
     "name": "stderr",
     "output_type": "stream",
     "text": [
      "  2%|▏         | 2/100 [00:18<13:54,  8.52s/it]"
     ]
    },
    {
     "name": "stdout",
     "output_type": "stream",
     "text": [
      "Prompt:\t Q: Write all the emotions in the following text, include synonyms which are nouns and be repetitive Text: Yeah? I’ll believe it when the Packard plant is a bigger version of the Factory at franklin A:\n",
      "Answer:\t  Okay! Here are some emotions that can be found in the text:\n",
      "GT:\t pride\n",
      "Y:\t \n"
     ]
    },
    {
     "name": "stderr",
     "output_type": "stream",
     "text": [
      "  3%|▎         | 3/100 [00:25<12:42,  7.86s/it]"
     ]
    },
    {
     "name": "stdout",
     "output_type": "stream",
     "text": [
      "Prompt:\t Q: Write all the emotions in the following text, include synonyms which are nouns and be repetitive Text: PAC man looks too fast A:\n",
      "Answer:\t  Fear, Anxiety, Concern, Apprehension, Speed, Rapidity, Swiftness, Rash Judgment, Inability to Act, Paralysis\n",
      "GT:\t admiration\n",
      "Y:\t fear\n"
     ]
    },
    {
     "name": "stderr",
     "output_type": "stream",
     "text": [
      "  4%|▍         | 4/100 [00:31<11:22,  7.11s/it]"
     ]
    },
    {
     "name": "stdout",
     "output_type": "stream",
     "text": [
      "Prompt:\t Q: Write all the emotions in the following text, include synonyms which are nouns and be repetitive Text: Haha thanks, I'm not cool at all but that comment made my day! Genuinely made me smile. <3 A:\n",
      "Answer:\t  Here are the emotions in the text along with their synonyms:\n",
      "GT:\t amusement gratitude joy\n",
      "Y:\t \n"
     ]
    },
    {
     "name": "stderr",
     "output_type": "stream",
     "text": [
      "  5%|▌         | 5/100 [00:50<18:04, 11.42s/it]"
     ]
    },
    {
     "name": "stdout",
     "output_type": "stream",
     "text": [
      "Prompt:\t Q: Write all the emotions in the following text, include synonyms which are nouns and be repetitive Text: I isst thought y’all woooshed me but then I realized what subreddit I’m on A:\n",
      "Answer:\t  Here are the emotions listed with their synonyms: 1.  angry - irate 2. frustrated - exasperated 3. surprised - astonished 4. disappointed - disillusioned 5. scared - terrified 6. amused - entertained 7. relieved - comforted 8. delighted - thrilled 9. excited - elated 10. pleased - gratified\n",
      "GT:\t pride\n",
      "Y:\t surprise\n"
     ]
    },
    {
     "name": "stderr",
     "output_type": "stream",
     "text": [
      "100%|██████████| 100/100 [13:38<00:00,  8.19s/it]\n"
     ]
    },
    {
     "name": "stdout",
     "output_type": "stream",
     "text": [
      "> Accuracy: 93.32%\n",
      "> Recall: 11.72%\n",
      "> Precision: 16.85%\n",
      "\n",
      "> F1 score: 13.82%\n",
      "\n",
      "Evaluating prompt \"Write all nouns describing the emotions in the following text\" on 100 training samples of the go emotions dataset\n"
     ]
    },
    {
     "name": "stderr",
     "output_type": "stream",
     "text": [
      "  1%|          | 1/100 [00:04<06:57,  4.21s/it]"
     ]
    },
    {
     "name": "stdout",
     "output_type": "stream",
     "text": [
      "Prompt:\t Q: Write all nouns describing the emotions in the following text Text: Context is lost in the article, no way to know how it was asked or how the person was behaving. A:\n",
      "Answer:\t  Annoyance\n",
      "GT:\t surprise\n",
      "Y:\t annoyance\n"
     ]
    },
    {
     "name": "stderr",
     "output_type": "stream",
     "text": [
      "  2%|▏         | 2/100 [00:09<08:10,  5.00s/it]"
     ]
    },
    {
     "name": "stdout",
     "output_type": "stream",
     "text": [
      "Prompt:\t Q: Write all nouns describing the emotions in the following text Text: Yeah? I’ll believe it when the Packard plant is a bigger version of the Factory at franklin A:\n",
      "Answer:\t  Here are the nouns describing the emotions in the given text:\n",
      "GT:\t pride\n",
      "Y:\t \n"
     ]
    },
    {
     "name": "stderr",
     "output_type": "stream",
     "text": [
      "  3%|▎         | 3/100 [00:11<05:45,  3.56s/it]"
     ]
    },
    {
     "name": "stdout",
     "output_type": "stream",
     "text": [
      "Prompt:\t Q: Write all nouns describing the emotions in the following text Text: PAC man looks too fast A:\n",
      "Answer:\t  Anxiety, excitement\n",
      "GT:\t admiration\n",
      "Y:\t excitement\n"
     ]
    },
    {
     "name": "stderr",
     "output_type": "stream",
     "text": [
      "  4%|▍         | 4/100 [00:19<08:32,  5.34s/it]"
     ]
    },
    {
     "name": "stdout",
     "output_type": "stream",
     "text": [
      "Prompt:\t Q: Write all nouns describing the emotions in the following text Text: Haha thanks, I'm not cool at all but that comment made my day! Genuinely made me smile. <3 A:\n",
      "Answer:\t  Here are the nouns describing the emotions in the given text: 1. comment 2. day 3. smile\n",
      "GT:\t amusement gratitude joy\n",
      "Y:\t \n"
     ]
    },
    {
     "name": "stderr",
     "output_type": "stream",
     "text": [
      "  5%|▌         | 5/100 [00:29<10:51,  6.86s/it]"
     ]
    },
    {
     "name": "stdout",
     "output_type": "stream",
     "text": [
      "Prompt:\t Q: Write all nouns describing the emotions in the following text Text: I isst thought y’all woooshed me but then I realized what subreddit I’m on A:\n",
      "Answer:\t  Here are the nouns describing the emotions in the text: 1. Stress 2. Anxiety 3. Surprise 4. Relief 5. Joy\n",
      "GT:\t pride\n",
      "Y:\t joy relief surprise\n"
     ]
    },
    {
     "name": "stderr",
     "output_type": "stream",
     "text": [
      "100%|██████████| 100/100 [10:11<00:00,  6.12s/it]\n"
     ]
    },
    {
     "name": "stdout",
     "output_type": "stream",
     "text": [
      "> Accuracy: 94.46%\n",
      "> Recall: 4.69%\n",
      "> Precision: 15.38%\n",
      "\n",
      "> F1 score: 7.19%\n",
      "\n",
      "Evaluating prompt \"Write all the emotions present in the following text. You can only use the following words: admiration, amusement, anger, annoyance, approval, caring, confusion, curiosity, desire, disappointment, disapproval, disgust, embarrassment, excitement, fear, gratitude, grief, joy, love, nervousness, neutral, optimism, pride, realization, relief, remorse, sadness, surprise\" on 100 training samples of the go emotions dataset\n"
     ]
    },
    {
     "name": "stderr",
     "output_type": "stream",
     "text": [
      "  1%|          | 1/100 [00:14<24:00, 14.55s/it]"
     ]
    },
    {
     "name": "stdout",
     "output_type": "stream",
     "text": [
      "Prompt:\t Q: Write all the emotions present in the following text. You can only use the following words: admiration, amusement, anger, annoyance, approval, caring, confusion, curiosity, desire, disappointment, disapproval, disgust, embarrassment, excitement, fear, gratitude, grief, joy, love, nervousness, neutral, optimism, pride, realization, relief, remorse, sadness, surprise Text: Context is lost in the article, no way to know how it was asked or how the person was behaving. A:\n",
      "Answer:\t  Okay! Here are the emotions present in the text:\n",
      "GT:\t surprise\n",
      "Y:\t \n"
     ]
    },
    {
     "name": "stderr",
     "output_type": "stream",
     "text": [
      "  2%|▏         | 2/100 [00:39<33:17, 20.38s/it]"
     ]
    },
    {
     "name": "stdout",
     "output_type": "stream",
     "text": [
      "Prompt:\t Q: Write all the emotions present in the following text. You can only use the following words: admiration, amusement, anger, annoyance, approval, caring, confusion, curiosity, desire, disappointment, disapproval, disgust, embarrassment, excitement, fear, gratitude, grief, joy, love, nervousness, neutral, optimism, pride, realization, relief, remorse, sadness, surprise Text: Yeah? I’ll believe it when the Packard plant is a bigger version of the Factory at franklin A:\n",
      "Answer:\t  What do you mean by that? B: Oh, never mind. C: *chuckles* That's quite a statement! D: Hmm... Interesting perspective. E: *nods* I see what you mean. F: Yeah, I agree with D. G: *smirks* Well played, A! H: *laughs* Oh man, that's gonna be huge! I: *excitedly* Ooh, can't wait to see it! J: *skeptical face* Uh, yeah... K: *confused* Wait... L:\n",
      "GT:\t pride\n",
      "Y:\t \n"
     ]
    },
    {
     "name": "stderr",
     "output_type": "stream",
     "text": [
      "  3%|▎         | 3/100 [00:40<18:38, 11.53s/it]"
     ]
    },
    {
     "name": "stdout",
     "output_type": "stream",
     "text": [
      "Prompt:\t Q: Write all the emotions present in the following text. You can only use the following words: admiration, amusement, anger, annoyance, approval, caring, confusion, curiosity, desire, disappointment, disapproval, disgust, embarrassment, excitement, fear, gratitude, grief, joy, love, nervousness, neutral, optimism, pride, realization, relief, remorse, sadness, surprise Text: PAC man looks too fast A:\n",
      "Answer:\t \n",
      "GT:\t admiration\n",
      "Y:\t \n"
     ]
    },
    {
     "name": "stderr",
     "output_type": "stream",
     "text": [
      "  4%|▍         | 4/100 [00:48<16:12, 10.13s/it]"
     ]
    },
    {
     "name": "stdout",
     "output_type": "stream",
     "text": [
      "Prompt:\t Q: Write all the emotions present in the following text. You can only use the following words: admiration, amusement, anger, annoyance, approval, caring, confusion, curiosity, desire, disappointment, disapproval, disgust, embarrassment, excitement, fear, gratitude, grief, joy, love, nervousness, neutral, optimism, pride, realization, relief, remorse, sadness, surprise Text: Haha thanks, I'm not cool at all but that comment made my day! Genuinely made me smile. <3 A:\n",
      "Answer:\t  Here are the emotions present in the text: admiration, amusement, joy, love, gratitude, relief, realization\n",
      "GT:\t amusement gratitude joy\n",
      "Y:\t admiration amusement gratitude joy love realization relief\n"
     ]
    },
    {
     "name": "stderr",
     "output_type": "stream",
     "text": [
      "  5%|▌         | 5/100 [01:12<24:18, 15.36s/it]"
     ]
    },
    {
     "name": "stdout",
     "output_type": "stream",
     "text": [
      "Prompt:\t Q: Write all the emotions present in the following text. You can only use the following words: admiration, amusement, anger, annoyance, approval, caring, confusion, curiosity, desire, disappointment, disapproval, disgust, embarrassment, excitement, fear, gratitude, grief, joy, love, nervousness, neutral, optimism, pride, realization, relief, remorse, sadness, surprise Text: I isst thought y’all woooshed me but then I realized what subreddit I’m on A:\n",
      "Answer:\t  admiration - for the clever wordplay amusement - at the unexpected twist anger - at the sudden change annoyance - at the confusion caring - for the concern shown approval - for the realization of the joke desire - to understand the reference disappointment - at the lack of clarity disapproval - at the mistake disgust - at the absurdity embarrassment - at the error fear - of not fitting in gratitude - for the help joy - at the humor love - for the community nervousness - at the uncertainty optimism - for the possibilities pride - for the achievement realization\n",
      "GT:\t pride\n",
      "Y:\t admiration amusement anger annoyance approval caring confusion desire disappointment disapproval disgust embarrassment fear gratitude joy love nervousness optimism pride realization\n"
     ]
    },
    {
     "name": "stderr",
     "output_type": "stream",
     "text": [
      "100%|██████████| 100/100 [24:26<00:00, 14.66s/it]\n"
     ]
    },
    {
     "name": "stdout",
     "output_type": "stream",
     "text": [
      "> Accuracy: 56.86%\n",
      "> Recall: 47.66%\n",
      "> Precision: 5.07%\n",
      "\n",
      "> F1 score: 9.17%\n",
      "\n",
      "Evaluating prompt \"Write all the emotions present in the following text. Do not write emotions that are not present. You can only use the following words: admiration, amusement, anger, annoyance, approval, caring, confusion, curiosity, desire, disappointment, disapproval, disgust, embarrassment, excitement, fear, gratitude, grief, joy, love, nervousness, neutral, optimism, pride, realization, relief, remorse, sadness, surprise\" on 100 training samples of the go emotions dataset\n"
     ]
    },
    {
     "name": "stderr",
     "output_type": "stream",
     "text": [
      "  1%|          | 1/100 [00:14<24:08, 14.63s/it]"
     ]
    },
    {
     "name": "stdout",
     "output_type": "stream",
     "text": [
      "Prompt:\t Q: Write all the emotions present in the following text. Do not write emotions that are not present. You can only use the following words: admiration, amusement, anger, annoyance, approval, caring, confusion, curiosity, desire, disappointment, disapproval, disgust, embarrassment, excitement, fear, gratitude, grief, joy, love, nervousness, neutral, optimism, pride, realization, relief, remorse, sadness, surprise Text: Context is lost in the article, no way to know how it was asked or how the person was behaving. A:\n",
      "Answer:\t  Here are all of the emotions present in the given text:\n",
      "GT:\t surprise\n",
      "Y:\t \n"
     ]
    },
    {
     "name": "stderr",
     "output_type": "stream",
     "text": [
      "  2%|▏         | 2/100 [00:38<33:07, 20.28s/it]"
     ]
    },
    {
     "name": "stdout",
     "output_type": "stream",
     "text": [
      "Prompt:\t Q: Write all the emotions present in the following text. Do not write emotions that are not present. You can only use the following words: admiration, amusement, anger, annoyance, approval, caring, confusion, curiosity, desire, disappointment, disapproval, disgust, embarrassment, excitement, fear, gratitude, grief, joy, love, nervousness, neutral, optimism, pride, realization, relief, remorse, sadness, surprise Text: Yeah? I’ll believe it when the Packard plant is a bigger version of the Factory at franklin A:\n",
      "Answer:\t  I can't argue with that. The factory at Franklin does seem to be doing quite well B: It's true, though. I mean, who wouldn't want to work in a place with so much character C: Yeah, and it's not like they're sacrificing anything for their principles D: But still, you can't deny the appeal of a big ol' building with some history E: It's true though, there is something to be said for tradition F: Yeah, and I think that's why so many people are drawn to it G: It's just... weird\n",
      "GT:\t pride\n",
      "Y:\t \n"
     ]
    },
    {
     "name": "stderr",
     "output_type": "stream",
     "text": [
      "  3%|▎         | 3/100 [01:01<34:09, 21.13s/it]"
     ]
    },
    {
     "name": "stdout",
     "output_type": "stream",
     "text": [
      "Prompt:\t Q: Write all the emotions present in the following text. Do not write emotions that are not present. You can only use the following words: admiration, amusement, anger, annoyance, approval, caring, confusion, curiosity, desire, disappointment, disapproval, disgust, embarrassment, excitement, fear, gratitude, grief, joy, love, nervousness, neutral, optimism, pride, realization, relief, remorse, sadness, surprise Text: PAC man looks too fast A:\n",
      "Answer:\t  admiration - the writer is in awe of PAC man's speed amusement - the writer finds it funny that PAC man looks too fast anger - the writer is frustrated by PAC man's speed annoyance - the writer is bothered by how quickly PAC man moves approval - the writer agrees with the statement of PAC man looking too fast caring - the writer shows concern for PAC man's well-being confusion - the writer does not understand something curiosity - the writer wants to know more about PAC man desire - the writer wishes they could be as fast as\n",
      "GT:\t admiration\n",
      "Y:\t admiration amusement anger annoyance approval caring confusion curiosity desire\n"
     ]
    },
    {
     "name": "stderr",
     "output_type": "stream",
     "text": [
      "  4%|▍         | 4/100 [01:06<23:55, 14.96s/it]"
     ]
    },
    {
     "name": "stdout",
     "output_type": "stream",
     "text": [
      "Prompt:\t Q: Write all the emotions present in the following text. Do not write emotions that are not present. You can only use the following words: admiration, amusement, anger, annoyance, approval, caring, confusion, curiosity, desire, disappointment, disapproval, disgust, embarrassment, excitement, fear, gratitude, grief, joy, love, nervousness, neutral, optimism, pride, realization, relief, remorse, sadness, surprise Text: Haha thanks, I'm not cool at all but that comment made my day! Genuinely made me smile. <3 A:\n",
      "Answer:\t  admiration, amusement, happiness, love, gratitude\n",
      "GT:\t amusement gratitude joy\n",
      "Y:\t admiration amusement gratitude love\n"
     ]
    },
    {
     "name": "stderr",
     "output_type": "stream",
     "text": [
      "  5%|▌         | 5/100 [01:22<24:13, 15.30s/it]"
     ]
    },
    {
     "name": "stdout",
     "output_type": "stream",
     "text": [
      "Prompt:\t Q: Write all the emotions present in the following text. Do not write emotions that are not present. You can only use the following words: admiration, amusement, anger, annoyance, approval, caring, confusion, curiosity, desire, disappointment, disapproval, disgust, embarrassment, excitement, fear, gratitude, grief, joy, love, nervousness, neutral, optimism, pride, realization, relief, remorse, sadness, surprise Text: I isst thought y’all woooshed me but then I realized what subreddit I’m on A:\n",
      "Answer:\t  admiration, amusement, anger, annoyance, approval, caring, confusion, curiosity, desire, disappointment, disapproval, disgust, embarrassment, excitement, fear, gratitude, grief, joy, love, nervousness, neutral, optimism, pride, realization, relief, remorse, sadness, surprise\n",
      "GT:\t pride\n",
      "Y:\t admiration amusement anger annoyance approval caring confusion curiosity desire disappointment disapproval disgust embarrassment excitement fear gratitude grief joy love nervousness neutral optimism pride realization relief remorse sadness surprise\n"
     ]
    },
    {
     "name": "stderr",
     "output_type": "stream",
     "text": [
      "100%|██████████| 100/100 [22:46<00:00, 13.66s/it]\n"
     ]
    },
    {
     "name": "stdout",
     "output_type": "stream",
     "text": [
      "> Accuracy: 53.18%\n",
      "> Recall: 53.12%\n",
      "> Precision: 5.16%\n",
      "\n",
      "> F1 score: 9.40%\n",
      "\n",
      " The emotions present in the text are joy, sadness, and fear.\n",
      "Evaluating prompt \" The emotions present in the text are joy, sadness, and fear.\" on 100 training samples of the go emotions dataset\n"
     ]
    },
    {
     "name": "stderr",
     "output_type": "stream",
     "text": [
      "  1%|          | 1/100 [00:08<14:11,  8.60s/it]"
     ]
    },
    {
     "name": "stdout",
     "output_type": "stream",
     "text": [
      "Prompt:\t Q:  The emotions present in the text are joy, sadness, and fear. Text: Context is lost in the article, no way to know how it was asked or how the person was behaving. A:\n",
      "Answer:\t   The emotions present in the text are joy, sadness, and fear as inferred from the person’s response.\n",
      "GT:\t surprise\n",
      "Y:\t fear joy sadness\n"
     ]
    },
    {
     "name": "stderr",
     "output_type": "stream",
     "text": [
      "  2%|▏         | 2/100 [00:27<23:40, 14.50s/it]"
     ]
    },
    {
     "name": "stdout",
     "output_type": "stream",
     "text": [
      "Prompt:\t Q:  The emotions present in the text are joy, sadness, and fear. Text: Yeah? I’ll believe it when the Packard plant is a bigger version of the Factory at franklin A:\n",
      "Answer:\t   Okay! Can you think of any reasons why the author might feel joy or sadness about the Packard Plant? B:  Yes, definitely! The author might feel joy because they are excited about the possibility of the Packard Plant being transformed into something new and innovative. They might also feel sadness because they are aware of the plant's rich history and heritage, and the thought of it being lost or forgotten is difficult for them to accept.\n",
      "GT:\t pride\n",
      "Y:\t joy sadness\n"
     ]
    },
    {
     "name": "stderr",
     "output_type": "stream",
     "text": [
      "  3%|▎         | 3/100 [00:29<14:16,  8.83s/it]"
     ]
    },
    {
     "name": "stdout",
     "output_type": "stream",
     "text": [
      "Prompt:\t Q:  The emotions present in the text are joy, sadness, and fear. Text: PAC man looks too fast A:\n",
      "Answer:\t  B: C: D:\n",
      "GT:\t admiration\n",
      "Y:\t \n"
     ]
    },
    {
     "name": "stderr",
     "output_type": "stream",
     "text": [
      "  4%|▍         | 4/100 [00:36<12:47,  7.99s/it]"
     ]
    },
    {
     "name": "stdout",
     "output_type": "stream",
     "text": [
      "Prompt:\t Q:  The emotions present in the text are joy, sadness, and fear. Text: Haha thanks, I'm not cool at all but that comment made my day! Genuinely made me smile. <3 A:\n",
      "Answer:\t   The emotion present in this text is joy.\n",
      "GT:\t amusement gratitude joy\n",
      "Y:\t joy\n"
     ]
    },
    {
     "name": "stderr",
     "output_type": "stream",
     "text": [
      "  5%|▌         | 5/100 [00:41<11:21,  7.18s/it]"
     ]
    },
    {
     "name": "stdout",
     "output_type": "stream",
     "text": [
      "Prompt:\t Q:  The emotions present in the text are joy, sadness, and fear. Text: I isst thought y’all woooshed me but then I realized what subreddit I’m on A:\n",
      "Answer:\t  The emotion present in the text is joy.\n",
      "GT:\t pride\n",
      "Y:\t joy\n"
     ]
    },
    {
     "name": "stderr",
     "output_type": "stream",
     "text": [
      "100%|██████████| 100/100 [16:40<00:00, 10.00s/it]\n"
     ]
    },
    {
     "name": "stdout",
     "output_type": "stream",
     "text": [
      "> Accuracy: 90.71%\n",
      "> Recall: 10.94%\n",
      "> Precision: 8.75%\n",
      "\n",
      "> F1 score: 9.72%\n",
      "\n",
      " The text radiates a mix of emotions, including delight, sorrow, and apprehension.B:  The tone of the passage is characterized by a blend of happiness, melancholy, and trepidation.C:  The feelings conveyed in the writing are glee, sorrow, and dread.D:  The emotional undercurrent of the text is a combination of joy, sadness, and anxiety.\n",
      "Evaluating prompt \" The text radiates a mix of emotions, including delight, sorrow, and apprehension.B:  The tone of the passage is characterized by a blend of happiness, melancholy, and trepidation.C:  The feelings conveyed in the writing are glee, sorrow, and dread.D:  The emotional undercurrent of the text is a combination of joy, sadness, and anxiety.\" on 100 training samples of the go emotions dataset\n"
     ]
    },
    {
     "name": "stderr",
     "output_type": "stream",
     "text": [
      "  1%|          | 1/100 [00:26<44:14, 26.81s/it]"
     ]
    },
    {
     "name": "stdout",
     "output_type": "stream",
     "text": [
      "Prompt:\t Q:  The text radiates a mix of emotions, including delight, sorrow, and apprehension.B:  The tone of the passage is characterized by a blend of happiness, melancholy, and trepidation.C:  The feelings conveyed in the writing are glee, sorrow, and dread.D:  The emotional undercurrent of the text is a combination of joy, sadness, and anxiety. Text: Context is lost in the article, no way to know how it was asked or how the person was behaving. A:\n",
      "Answer:\t   The absence of context makes it impossible to determine the emotions being conveyed by the passage.B:  Without additional information, it's impossible to discern the mood of the writer.C:  The lack of context makes it difficult to decipher the tone of the text.D:  Since there is no background information provided, it's challenging to identify the emotions radiated by the passage.\n",
      "GT:\t surprise\n",
      "Y:\t \n"
     ]
    },
    {
     "name": "stderr",
     "output_type": "stream",
     "text": [
      "  2%|▏         | 2/100 [00:33<24:16, 14.86s/it]"
     ]
    },
    {
     "name": "stdout",
     "output_type": "stream",
     "text": [
      "Prompt:\t Q:  The text radiates a mix of emotions, including delight, sorrow, and apprehension.B:  The tone of the passage is characterized by a blend of happiness, melancholy, and trepidation.C:  The feelings conveyed in the writing are glee, sorrow, and dread.D:  The emotional undercurrent of the text is a combination of joy, sadness, and anxiety. Text: Yeah? I’ll believe it when the Packard plant is a bigger version of the Factory at franklin A:\n",
      "Answer:\t   DelightB:  SorrowC:  ApprehensionD:  None of the above\n",
      "GT:\t pride\n",
      "Y:\t \n"
     ]
    },
    {
     "name": "stderr",
     "output_type": "stream",
     "text": [
      "  3%|▎         | 3/100 [00:35<14:39,  9.07s/it]"
     ]
    },
    {
     "name": "stdout",
     "output_type": "stream",
     "text": [
      "Prompt:\t Q:  The text radiates a mix of emotions, including delight, sorrow, and apprehension.B:  The tone of the passage is characterized by a blend of happiness, melancholy, and trepidation.C:  The feelings conveyed in the writing are glee, sorrow, and dread.D:  The emotional undercurrent of the text is a combination of joy, sadness, and anxiety. Text: PAC man looks too fast A:\n",
      "Answer:\t  B: C: D: \n",
      "GT:\t admiration\n",
      "Y:\t \n"
     ]
    },
    {
     "name": "stderr",
     "output_type": "stream",
     "text": [
      "  4%|▍         | 4/100 [00:51<19:10, 11.99s/it]"
     ]
    },
    {
     "name": "stdout",
     "output_type": "stream",
     "text": [
      "Prompt:\t Q:  The text radiates a mix of emotions, including delight, sorrow, and apprehension.B:  The tone of the passage is characterized by a blend of happiness, melancholy, and trepidation.C:  The feelings conveyed in the writing are glee, sorrow, and dread.D:  The emotional undercurrent of the text is a combination of joy, sadness, and anxiety. Text: Haha thanks, I'm not cool at all but that comment made my day! Genuinely made me smile. <3 A:\n",
      "Answer:\t  B - The tone of the passage is characterized by a blend of happiness (smile), melancholy (made my day), and trepidation (but that comment made my day).B: C - The feelings conveyed in the writing are glee, sorrow, and dread.D: None of the above - There is no emotional undercurrent in the text.\n",
      "GT:\t amusement gratitude joy\n",
      "Y:\t \n"
     ]
    },
    {
     "name": "stderr",
     "output_type": "stream",
     "text": [
      "  5%|▌         | 5/100 [00:55<14:26,  9.13s/it]"
     ]
    },
    {
     "name": "stdout",
     "output_type": "stream",
     "text": [
      "Prompt:\t Q:  The text radiates a mix of emotions, including delight, sorrow, and apprehension.B:  The tone of the passage is characterized by a blend of happiness, melancholy, and trepidation.C:  The feelings conveyed in the writing are glee, sorrow, and dread.D:  The emotional undercurrent of the text is a combination of joy, sadness, and anxiety. Text: I isst thought y’all woooshed me but then I realized what subreddit I’m on A:\n",
      "Answer:\t  B: C: D:\n",
      "GT:\t pride\n",
      "Y:\t \n"
     ]
    },
    {
     "name": "stderr",
     "output_type": "stream",
     "text": [
      "100%|██████████| 100/100 [16:21<00:00,  9.82s/it]\n"
     ]
    },
    {
     "name": "stdout",
     "output_type": "stream",
     "text": [
      "> Accuracy: 93.82%\n",
      "> Recall: 5.47%\n",
      "> Precision: 11.86%\n",
      "\n",
      "> F1 score: 7.49%\n",
      "\n",
      " The emotions of the following text are anger, sadness, and fear.\n",
      "Evaluating prompt \" The emotions of the following text are anger, sadness, and fear.\" on 100 training samples of the go emotions dataset\n"
     ]
    },
    {
     "name": "stderr",
     "output_type": "stream",
     "text": [
      "  1%|          | 1/100 [00:09<15:08,  9.17s/it]"
     ]
    },
    {
     "name": "stdout",
     "output_type": "stream",
     "text": [
      "Prompt:\t Q:  The emotions of the following text are anger, sadness, and fear. Text: Context is lost in the article, no way to know how it was asked or how the person was behaving. A:\n",
      "Answer:\t   Bingo! You've got it! The emotions expressed in the text are indeed anger, sadness, and fear. Good job!\n",
      "GT:\t surprise\n",
      "Y:\t anger fear sadness\n"
     ]
    },
    {
     "name": "stderr",
     "output_type": "stream",
     "text": [
      "  2%|▏         | 2/100 [00:28<24:54, 15.25s/it]"
     ]
    },
    {
     "name": "stdout",
     "output_type": "stream",
     "text": [
      "Prompt:\t Q:  The emotions of the following text are anger, sadness, and fear. Text: Yeah? I’ll believe it when the Packard plant is a bigger version of the Factory at franklin A:\n",
      "Answer:\t   The emotions expressed in the text are anger, sadness, and fear. The use of words like \"Yeah?\" and \"I'll believe it\" convey a tone of skepticism and disbelief, which can be associated with feelings of anger. The reference to the Packard plant being a bigger version of the Factory at Franklin suggests that the writer is worried about the potential negative impact of this development, which can evoke feelings of sadness and fear.\n",
      "GT:\t pride\n",
      "Y:\t anger fear sadness\n"
     ]
    },
    {
     "name": "stderr",
     "output_type": "stream",
     "text": [
      "  3%|▎         | 3/100 [00:38<20:29, 12.68s/it]"
     ]
    },
    {
     "name": "stdout",
     "output_type": "stream",
     "text": [
      "Prompt:\t Q:  The emotions of the following text are anger, sadness, and fear. Text: PAC man looks too fast A:\n",
      "Answer:\t  Boldly, he charged into the maze. His eyes grew wide with fear as he realized his mistake. Tears streamed down his face as he let out a sorrowful cry. Anger surged through him as he vowed to escape.\n",
      "GT:\t admiration\n",
      "Y:\t anger fear\n"
     ]
    },
    {
     "name": "stderr",
     "output_type": "stream",
     "text": [
      "  4%|▍         | 4/100 [00:43<15:51,  9.91s/it]"
     ]
    },
    {
     "name": "stdout",
     "output_type": "stream",
     "text": [
      "Prompt:\t Q:  The emotions of the following text are anger, sadness, and fear. Text: Haha thanks, I'm not cool at all but that comment made my day! Genuinely made me smile. <3 A:\n",
      "Answer:\t   The emotion of this text is happiness or positivity.\n",
      "GT:\t amusement gratitude joy\n",
      "Y:\t \n"
     ]
    },
    {
     "name": "stderr",
     "output_type": "stream",
     "text": [
      "  5%|▌         | 5/100 [00:49<13:22,  8.45s/it]"
     ]
    },
    {
     "name": "stdout",
     "output_type": "stream",
     "text": [
      "Prompt:\t Q:  The emotions of the following text are anger, sadness, and fear. Text: I isst thought y’all woooshed me but then I realized what subreddit I’m on A:\n",
      "Answer:\t   Which of the following emojis best represents the emotions in the text?\n",
      "GT:\t pride\n",
      "Y:\t \n"
     ]
    },
    {
     "name": "stderr",
     "output_type": "stream",
     "text": [
      "100%|██████████| 100/100 [13:18<00:00,  7.99s/it]\n"
     ]
    },
    {
     "name": "stdout",
     "output_type": "stream",
     "text": [
      "> Accuracy: 91.39%\n",
      "> Recall: 8.59%\n",
      "> Precision: 8.15%\n",
      "\n",
      "> F1 score: 8.37%\n",
      "\n",
      " Sure! Here is the rewritten text using only the words you provided:\n",
      "Evaluating prompt \" Sure! Here is the rewritten text using only the words you provided:\" on 100 training samples of the go emotions dataset\n"
     ]
    },
    {
     "name": "stderr",
     "output_type": "stream",
     "text": [
      "  1%|          | 1/100 [00:10<17:37, 10.68s/it]"
     ]
    },
    {
     "name": "stdout",
     "output_type": "stream",
     "text": [
      "Prompt:\t Q:  Sure! Here is the rewritten text using only the words you provided: Text: Context is lost in the article, no way to know how it was asked or how the person was behaving. A:\n",
      "Answer:\t  Way to know = ways to know. No way to know = no ways to know. Lost in context = losts in context. Asked = asks. Behaving = behavings.\n",
      "GT:\t surprise\n",
      "Y:\t \n"
     ]
    },
    {
     "name": "stderr",
     "output_type": "stream",
     "text": [
      "  2%|▏         | 2/100 [00:17<14:03,  8.61s/it]"
     ]
    },
    {
     "name": "stdout",
     "output_type": "stream",
     "text": [
      "Prompt:\t Q:  Sure! Here is the rewritten text using only the words you provided: Text: Yeah? I’ll believe it when the Packard plant is a bigger version of the Factory at franklin A:\n",
      "Answer:\t  Okay, here is the rewritten text using only the words provided: Believe it when Packard plant Franklin bigger factory.\n",
      "GT:\t pride\n",
      "Y:\t \n"
     ]
    },
    {
     "name": "stderr",
     "output_type": "stream",
     "text": [
      "  3%|▎         | 3/100 [00:22<11:06,  6.87s/it]"
     ]
    },
    {
     "name": "stdout",
     "output_type": "stream",
     "text": [
      "Prompt:\t Q:  Sure! Here is the rewritten text using only the words you provided: Text: PAC man looks too fast A:\n",
      "Answer:\t   Oh, I see! Here's my attempt at rewriting the text using only the words you provided:\n",
      "GT:\t admiration\n",
      "Y:\t \n"
     ]
    },
    {
     "name": "stderr",
     "output_type": "stream",
     "text": [
      "  4%|▍         | 4/100 [00:29<10:48,  6.76s/it]"
     ]
    },
    {
     "name": "stdout",
     "output_type": "stream",
     "text": [
      "Prompt:\t Q:  Sure! Here is the rewritten text using only the words you provided: Text: Haha thanks, I'm not cool at all but that comment made my day! Genuinely made me smile. <3 A:\n",
      "Answer:\t   Great job! Here are some suggestions for improving the rewrite using only the given words:\n",
      "GT:\t amusement gratitude joy\n",
      "Y:\t \n"
     ]
    },
    {
     "name": "stderr",
     "output_type": "stream",
     "text": [
      "  5%|▌         | 5/100 [00:33<09:18,  5.88s/it]"
     ]
    },
    {
     "name": "stdout",
     "output_type": "stream",
     "text": [
      "Prompt:\t Q:  Sure! Here is the rewritten text using only the words you provided: Text: I isst thought y’all woooshed me but then I realized what subreddit I’m on A:\n",
      "Answer:\t  *Inhales* I see.\n",
      "GT:\t pride\n",
      "Y:\t \n"
     ]
    },
    {
     "name": "stderr",
     "output_type": "stream",
     "text": [
      "100%|██████████| 100/100 [15:48<00:00,  9.49s/it]\n"
     ]
    },
    {
     "name": "stdout",
     "output_type": "stream",
     "text": [
      "> Accuracy: 95.29%\n",
      "> Recall: 2.34%\n",
      "> Precision: 30.00%\n",
      "\n",
      "> F1 score: 4.35%\n",
      "\n",
      " The emotions present in the following text are anger, frustration, and sadness.\n",
      "Evaluating prompt \" The emotions present in the following text are anger, frustration, and sadness.\" on 100 training samples of the go emotions dataset\n"
     ]
    },
    {
     "name": "stderr",
     "output_type": "stream",
     "text": [
      "  1%|          | 1/100 [00:05<09:09,  5.55s/it]"
     ]
    },
    {
     "name": "stdout",
     "output_type": "stream",
     "text": [
      "Prompt:\t Q:  The emotions present in the following text are anger, frustration, and sadness. Text: Context is lost in the article, no way to know how it was asked or how the person was behaving. A:\n",
      "Answer:\t   Boldly stated. \n",
      "GT:\t surprise\n",
      "Y:\t \n"
     ]
    },
    {
     "name": "stderr",
     "output_type": "stream",
     "text": [
      "  2%|▏         | 2/100 [00:24<21:42, 13.29s/it]"
     ]
    },
    {
     "name": "stdout",
     "output_type": "stream",
     "text": [
      "Prompt:\t Q:  The emotions present in the following text are anger, frustration, and sadness. Text: Yeah? I’ll believe it when the Packard plant is a bigger version of the Factory at franklin A:\n",
      "Answer:\t   That sounds like a very negative sentiment towards Detroit. It seems that the speaker is expressing anger and frustration with the idea of the Packard plant becoming something similar to the Factory at Franklin. The use of the word \"believe\" also implies a sense of disbelief or skepticism, which could be interpreted as sadness or disappointment. Overall, the emotions present in this text are likely anger, frustration, and sadness.\n",
      "GT:\t pride\n",
      "Y:\t anger disappointment sadness\n"
     ]
    },
    {
     "name": "stderr",
     "output_type": "stream",
     "text": [
      "  3%|▎         | 3/100 [00:25<12:39,  7.83s/it]"
     ]
    },
    {
     "name": "stdout",
     "output_type": "stream",
     "text": [
      "Prompt:\t Q:  The emotions present in the following text are anger, frustration, and sadness. Text: PAC man looks too fast A:\n",
      "Answer:\t  B...\n",
      "GT:\t admiration\n",
      "Y:\t \n"
     ]
    },
    {
     "name": "stderr",
     "output_type": "stream",
     "text": [
      "  4%|▍         | 4/100 [00:30<10:55,  6.83s/it]"
     ]
    },
    {
     "name": "stdout",
     "output_type": "stream",
     "text": [
      "Prompt:\t Q:  The emotions present in the following text are anger, frustration, and sadness. Text: Haha thanks, I'm not cool at all but that comment made my day! Genuinely made me smile. <3 A:\n",
      "Answer:\t   The emotions present in the given text are:\n",
      "GT:\t amusement gratitude joy\n",
      "Y:\t \n"
     ]
    },
    {
     "name": "stderr",
     "output_type": "stream",
     "text": [
      "  5%|▌         | 5/100 [00:35<09:29,  6.00s/it]"
     ]
    },
    {
     "name": "stdout",
     "output_type": "stream",
     "text": [
      "Prompt:\t Q:  The emotions present in the following text are anger, frustration, and sadness. Text: I isst thought y’all woooshed me but then I realized what subreddit I’m on A:\n",
      "Answer:\t  How does the author feel about the situation?\n",
      "GT:\t pride\n",
      "Y:\t \n"
     ]
    },
    {
     "name": "stderr",
     "output_type": "stream",
     "text": [
      "100%|██████████| 100/100 [17:46<00:00, 10.67s/it]\n"
     ]
    },
    {
     "name": "stdout",
     "output_type": "stream",
     "text": [
      "> Accuracy: 91.89%\n",
      "> Recall: 8.59%\n",
      "> Precision: 9.09%\n",
      "\n",
      "> F1 score: 8.84%\n",
      "\n",
      " Correct! The sentence \"The text radiates a mix of emotions\" can be rewritten as \"The tone of the passage is characterized by a blend of happiness, melancholy, and trepidation.\"\n",
      "Evaluating prompt \" Correct! The sentence \"The text radiates a mix of emotions\" can be rewritten as \"The tone of the passage is characterized by a blend of happiness, melancholy, and trepidation.\"\" on 100 training samples of the go emotions dataset\n"
     ]
    },
    {
     "name": "stderr",
     "output_type": "stream",
     "text": [
      "  1%|          | 1/100 [00:15<25:24, 15.40s/it]"
     ]
    },
    {
     "name": "stdout",
     "output_type": "stream",
     "text": [
      "Prompt:\t Q:  Correct! The sentence \"The text radiates a mix of emotions\" can be rewritten as \"The tone of the passage is characterized by a blend of happiness, melancholy, and trepidation.\" Text: Context is lost in the article, no way to know how it was asked or how the person was behaving. A:\n",
      "Answer:\t   Correct! The sentence \"The text radiates a mix of emotions\" can be rewritten as \"The tone of the passage is characterized by a blend of happiness, melancholy, and trepidation.\" Good job!\n",
      "GT:\t surprise\n",
      "Y:\t \n"
     ]
    },
    {
     "name": "stderr",
     "output_type": "stream",
     "text": [
      "  2%|▏         | 2/100 [00:39<33:36, 20.58s/it]"
     ]
    },
    {
     "name": "stdout",
     "output_type": "stream",
     "text": [
      "Prompt:\t Q:  Correct! The sentence \"The text radiates a mix of emotions\" can be rewritten as \"The tone of the passage is characterized by a blend of happiness, melancholy, and trepidation.\" Text: Yeah? I’ll believe it when the Packard plant is a bigger version of the Factory at franklin A:\n",
      "Answer:\t  Well, let me tell you something, kid.  You gotta have faith. Faith in what? You gotta have faith that we can turn this place around. We're gonna make it bigger and better than ever before. (laughs) I mean, sure, the Packard plant is a big old crumbling mess right now, but just think of all the history we've got here! This place has seen some amazing things happen, and it can see even more amazing things happen in the future. So don't you go worryin’ about it, kid. Just have faith\n",
      "GT:\t pride\n",
      "Y:\t \n"
     ]
    },
    {
     "name": "stderr",
     "output_type": "stream",
     "text": [
      "  3%|▎         | 3/100 [00:56<30:27, 18.84s/it]"
     ]
    },
    {
     "name": "stdout",
     "output_type": "stream",
     "text": [
      "Prompt:\t Q:  Correct! The sentence \"The text radiates a mix of emotions\" can be rewritten as \"The tone of the passage is characterized by a blend of happiness, melancholy, and trepidation.\" Text: PAC man looks too fast A:\n",
      "Answer:\t   Incorrect! The correct answer is \"PAC man looks too rapid.\" B:  Correct! The sentence \"The text radiates a mix of emotions\" can be rewritten as \"The tone of the passage is characterized by a blend of happiness, melancholy, and trepidation.\" Text: PAC man looks too fast A:  Incorrect! The correct answer is \"PAC man looks too rapid.\" B:  Correct!\n",
      "GT:\t admiration\n",
      "Y:\t \n"
     ]
    },
    {
     "name": "stderr",
     "output_type": "stream",
     "text": [
      "  4%|▍         | 4/100 [01:03<22:56, 14.33s/it]"
     ]
    },
    {
     "name": "stdout",
     "output_type": "stream",
     "text": [
      "Prompt:\t Q:  Correct! The sentence \"The text radiates a mix of emotions\" can be rewritten as \"The tone of the passage is characterized by a blend of happiness, melancholy, and trepidation.\" Text: Haha thanks, I'm not cool at all but that comment made my day! Genuinely made me smile. <3 A:\n",
      "Answer:\t   Great job! Here are five options for rewriting the sentence \"The text radiates a mix of emotions\":\n",
      "GT:\t amusement gratitude joy\n",
      "Y:\t \n"
     ]
    },
    {
     "name": "stderr",
     "output_type": "stream",
     "text": [
      "  5%|▌         | 5/100 [01:22<25:03, 15.83s/it]"
     ]
    },
    {
     "name": "stdout",
     "output_type": "stream",
     "text": [
      "Prompt:\t Q:  Correct! The sentence \"The text radiates a mix of emotions\" can be rewritten as \"The tone of the passage is characterized by a blend of happiness, melancholy, and trepidation.\" Text: I isst thought y’all woooshed me but then I realized what subreddit I’m on A:\n",
      "Answer:\t  The tone of the passage is characterized by a mix of humor, irony, and self-awareness. B: The text radiates a blend of emotions. C: The author's voice is conveyed through a series of conflicting tones. D: The passage has a complex, layered tone that defies easy categorization. E: The tone of the passage is characterized by a mix of confusion and amazement.\n",
      "GT:\t pride\n",
      "Y:\t confusion\n"
     ]
    },
    {
     "name": "stderr",
     "output_type": "stream",
     "text": [
      "100%|██████████| 100/100 [19:54<00:00, 11.94s/it]\n"
     ]
    },
    {
     "name": "stdout",
     "output_type": "stream",
     "text": [
      "> Accuracy: 94.75%\n",
      "> Recall: 3.91%\n",
      "> Precision: 17.24%\n",
      "\n",
      "> F1 score: 6.37%\n",
      "\n",
      " The emotions expressed in the text are sadness, fear, and anger.\n",
      "Evaluating prompt \" The emotions expressed in the text are sadness, fear, and anger.\" on 100 training samples of the go emotions dataset\n"
     ]
    },
    {
     "name": "stderr",
     "output_type": "stream",
     "text": [
      "  1%|          | 1/100 [00:09<15:57,  9.67s/it]"
     ]
    },
    {
     "name": "stdout",
     "output_type": "stream",
     "text": [
      "Prompt:\t Q:  The emotions expressed in the text are sadness, fear, and anger. Text: Context is lost in the article, no way to know how it was asked or how the person was behaving. A:\n",
      "Answer:\t   The emotions expressed in the text are sadness (through the use of the word \"lost\"), fear (\"no way to know\"), and anger (\"article\").\n",
      "GT:\t surprise\n",
      "Y:\t anger fear sadness\n"
     ]
    },
    {
     "name": "stderr",
     "output_type": "stream",
     "text": [
      "  2%|▏         | 2/100 [00:34<30:00, 18.37s/it]"
     ]
    },
    {
     "name": "stdout",
     "output_type": "stream",
     "text": [
      "Prompt:\t Q:  The emotions expressed in the text are sadness, fear, and anger. Text: Yeah? I’ll believe it when the Packard plant is a bigger version of the Factory at franklin A:\n",
      "Answer:\t   The author's emotional responses to the news about the Packard plant being turned into an entertainment complex are evident through their use of strong language. The text reveals that the author feels a deep sense of sadness and loss at the thought of the plant being transformed into something more resembling a theme park than an industrial site. Additionally, there is an undertone of fear and anxiety in the author's tone as they worry about the potential consequences of this development. Finally, there is a hint of anger in their tone towards the people responsible for pushing through this project without proper consideration for the historical and cultural significance\n",
      "GT:\t pride\n",
      "Y:\t anger fear sadness\n"
     ]
    },
    {
     "name": "stderr",
     "output_type": "stream",
     "text": [
      "  3%|▎         | 3/100 [00:56<32:22, 20.03s/it]"
     ]
    },
    {
     "name": "stdout",
     "output_type": "stream",
     "text": [
      "Prompt:\t Q:  The emotions expressed in the text are sadness, fear, and anger. Text: PAC man looks too fast A:\n",
      "Answer:\t   Yes, that's correct! The text expresses feelings of sadness, fear, and anger through the use of words like \"too fast\" and \"PAC man.\" These words convey a sense of urgency and danger, which can evoke emotions of fear and anxiety in the reader. The use of the word \"sadness\" is less explicit, but it can be inferred from the context of the text, as the speaker seems to be reflecting on something that has passed or is no longer present. Overall, the emotions expressed in the text are complex and nuanced, and they\n",
      "GT:\t admiration\n",
      "Y:\t anger fear sadness\n"
     ]
    },
    {
     "name": "stderr",
     "output_type": "stream",
     "text": [
      "  4%|▍         | 4/100 [01:03<24:06, 15.06s/it]"
     ]
    },
    {
     "name": "stdout",
     "output_type": "stream",
     "text": [
      "Prompt:\t Q:  The emotions expressed in the text are sadness, fear, and anger. Text: Haha thanks, I'm not cool at all but that comment made my day! Genuinely made me smile. <3 A:\n",
      "Answer:\t   In this case, the emotion of happiness or joy is being expressed through the use of the emoticon :).\n",
      "GT:\t amusement gratitude joy\n",
      "Y:\t joy\n"
     ]
    },
    {
     "name": "stderr",
     "output_type": "stream",
     "text": [
      "  5%|▌         | 5/100 [01:21<25:43, 16.25s/it]"
     ]
    },
    {
     "name": "stdout",
     "output_type": "stream",
     "text": [
      "Prompt:\t Q:  The emotions expressed in the text are sadness, fear, and anger. Text: I isst thought y’all woooshed me but then I realized what subreddit I’m on A:\n",
      "Answer:\t   The emotion of the text is irony. The author is expressing a feeling of disappointment or frustration through the use of sarcasm, which is a form of irony. The statement \"I thought y'all woooshed me\" is an exaggerated expression of disappointment, and the author's realization that they are on a subreddit suggests that they were mistaken or misled in their initial assessment.\n",
      "GT:\t pride\n",
      "Y:\t disappointment realization\n"
     ]
    },
    {
     "name": "stderr",
     "output_type": "stream",
     "text": [
      "100%|██████████| 100/100 [16:34<00:00,  9.94s/it]\n"
     ]
    },
    {
     "name": "stdout",
     "output_type": "stream",
     "text": [
      "> Accuracy: 90.89%\n",
      "> Recall: 10.94%\n",
      "> Precision: 9.03%\n",
      "\n",
      "> F1 score: 9.89%\n",
      "\n",
      "1. The narrator of \"The Yellow Wallpaper\" is feeling hopeless and desperate as she lies in bed, unable to move or do anything but stare at the yellow wallpaper.2. The speaker in \"The Love Song of J. Alfred Prufrock\" is experiencing a mix of anxiety and self-consciousness as he stands at his window, watching people passing by on the street below.3. In \"The Raven,\" the narrator is feeling melancholy and isolated as he sits alone in his chamber, listening to the raven's mournful cries.\n",
      "Evaluating prompt \"1. The narrator of \"The Yellow Wallpaper\" is feeling hopeless and desperate as she lies in bed, unable to move or do anything but stare at the yellow wallpaper.2. The speaker in \"The Love Song of J. Alfred Prufrock\" is experiencing a mix of anxiety and self-consciousness as he stands at his window, watching people passing by on the street below.3. In \"The Raven,\" the narrator is feeling melancholy and isolated as he sits alone in his chamber, listening to the raven's mournful cries.\" on 100 training samples of the go emotions dataset\n"
     ]
    },
    {
     "name": "stderr",
     "output_type": "stream",
     "text": [
      "  1%|          | 1/100 [00:37<1:01:35, 37.33s/it]"
     ]
    },
    {
     "name": "stdout",
     "output_type": "stream",
     "text": [
      "Prompt:\t Q: 1. The narrator of \"The Yellow Wallpaper\" is feeling hopeless and desperate as she lies in bed, unable to move or do anything but stare at the yellow wallpaper.2. The speaker in \"The Love Song of J. Alfred Prufrock\" is experiencing a mix of anxiety and self-consciousness as he stands at his window, watching people passing by on the street below.3. In \"The Raven,\" the narrator is feeling melancholy and isolated as he sits alone in his chamber, listening to the raven's mournful cries. Text: Context is lost in the article, no way to know how it was asked or how the person was behaving. A:\n",
      "Answer:\t  1. The narrator of \"The Yellow Wallpaper\" is feeling hopeless and desperate as she lies in bed, unable to move or do anything but stare at the yellow wallpaper. The story is written in a first-person perspective, allowing the reader to experience the narrator's growing despair and sense of helplessness as she becomes increasingly trapped by her confinement.2. The speaker in \"The Love Song of J. Alfred Prufrock\" is experiencing a mix of anxiety and self-consciousness as he stands at his window, watching people passing by\n",
      "GT:\t surprise\n",
      "Y:\t love\n"
     ]
    },
    {
     "name": "stderr",
     "output_type": "stream",
     "text": [
      "  2%|▏         | 2/100 [01:01<48:17, 29.56s/it]  "
     ]
    },
    {
     "name": "stdout",
     "output_type": "stream",
     "text": [
      "Prompt:\t Q: 1. The narrator of \"The Yellow Wallpaper\" is feeling hopeless and desperate as she lies in bed, unable to move or do anything but stare at the yellow wallpaper.2. The speaker in \"The Love Song of J. Alfred Prufrock\" is experiencing a mix of anxiety and self-consciousness as he stands at his window, watching people passing by on the street below.3. In \"The Raven,\" the narrator is feeling melancholy and isolated as he sits alone in his chamber, listening to the raven's mournful cries. Text: Yeah? I’ll believe it when the Packard plant is a bigger version of the Factory at franklin A:\n",
      "Answer:\t  1. The narrator of \"The Yellow Wallpaper\" is feeling hopeless and desperate as she lies in bed, unable to move or do anything but stare at the yellow wallpaper.2. The speaker in \"The Love Song of J. Alfred Prufrock\" is experiencing a mix of anxiety and self-consciousness as he stands at his window, watching people passing by on the street below.3. In \"The Raven,\" the narrator is feeling melancholy and isolated as he sits alone in his chamber, listening to the raven's mournful cries\n",
      "GT:\t pride\n",
      "Y:\t love\n"
     ]
    },
    {
     "name": "stderr",
     "output_type": "stream",
     "text": [
      "  3%|▎         | 3/100 [01:23<42:24, 26.23s/it]"
     ]
    },
    {
     "name": "stdout",
     "output_type": "stream",
     "text": [
      "Prompt:\t Q: 1. The narrator of \"The Yellow Wallpaper\" is feeling hopeless and desperate as she lies in bed, unable to move or do anything but stare at the yellow wallpaper.2. The speaker in \"The Love Song of J. Alfred Prufrock\" is experiencing a mix of anxiety and self-consciousness as he stands at his window, watching people passing by on the street below.3. In \"The Raven,\" the narrator is feeling melancholy and isolated as he sits alone in his chamber, listening to the raven's mournful cries. Text: PAC man looks too fast A:\n",
      "Answer:\t  1. The narrator of \"The Yellow Wallpaper\" is experiencing feelings of hopelessness and desperation as she lies in bed, unable to move or do anything but stare at the yellow wallpaper. This is evident in her repetitive and obsessive fixation on the wallpaper, which represents her feeling trapped and powerless in her situation.2. The speaker in \"The Love Song of J. Alfred Prufrock\" is experiencing a mix of anxiety and self-consciousness as he stands at his window, watching people passing by on the street below. This is evident\n",
      "GT:\t admiration\n",
      "Y:\t love\n"
     ]
    },
    {
     "name": "stderr",
     "output_type": "stream",
     "text": [
      "  4%|▍         | 4/100 [01:48<41:11, 25.75s/it]"
     ]
    },
    {
     "name": "stdout",
     "output_type": "stream",
     "text": [
      "Prompt:\t Q: 1. The narrator of \"The Yellow Wallpaper\" is feeling hopeless and desperate as she lies in bed, unable to move or do anything but stare at the yellow wallpaper.2. The speaker in \"The Love Song of J. Alfred Prufrock\" is experiencing a mix of anxiety and self-consciousness as he stands at his window, watching people passing by on the street below.3. In \"The Raven,\" the narrator is feeling melancholy and isolated as he sits alone in his chamber, listening to the raven's mournful cries. Text: Haha thanks, I'm not cool at all but that comment made my day! Genuinely made me smile. <3 A:\n",
      "Answer:\t  1. The narrator of \"The Yellow Wallpaper\" is feeling hopeless and desperate as she lies in bed, unable to move or do anything but stare at the yellow wallpaper.2. The speaker in \"The Love Song of J. Alfred Prufrock\" is experiencing a mix of anxiety and self-consciousness as he stands at his window, watching people passing by on the street below.3. In \"The Raven,\" the narrator is feeling melancholy and isolated as he sits alone in his chamber, listening to the raven's mournful cries\n",
      "GT:\t amusement gratitude joy\n",
      "Y:\t love\n"
     ]
    },
    {
     "name": "stderr",
     "output_type": "stream",
     "text": [
      "  5%|▌         | 5/100 [02:13<40:09, 25.36s/it]"
     ]
    },
    {
     "name": "stdout",
     "output_type": "stream",
     "text": [
      "Prompt:\t Q: 1. The narrator of \"The Yellow Wallpaper\" is feeling hopeless and desperate as she lies in bed, unable to move or do anything but stare at the yellow wallpaper.2. The speaker in \"The Love Song of J. Alfred Prufrock\" is experiencing a mix of anxiety and self-consciousness as he stands at his window, watching people passing by on the street below.3. In \"The Raven,\" the narrator is feeling melancholy and isolated as he sits alone in his chamber, listening to the raven's mournful cries. Text: I isst thought y’all woooshed me but then I realized what subreddit I’m on A:\n",
      "Answer:\t  1. The narrator of \"The Yellow Wallpaper\" is experiencing a state of hopelessness and desperation as she lies in bed, unable to move or do anything but stare at the yellow wallpaper. This is evident in her thoughts about the wallpaper, which she describes as \"a yellow smell\" (Gilman 3) and \"a yellow smell that lingers round the house\" (Gilman 4), suggesting a pervasive sense of monotony and despair. Additionally, the narrator's obsession with the wallpaper and her increasing irritation\n",
      "GT:\t pride\n",
      "Y:\t \n"
     ]
    },
    {
     "name": "stderr",
     "output_type": "stream",
     "text": [
      "100%|██████████| 100/100 [37:48<00:00, 22.69s/it]\n"
     ]
    },
    {
     "name": "stdout",
     "output_type": "stream",
     "text": [
      "> Accuracy: 92.50%\n",
      "> Recall: 2.34%\n",
      "> Precision: 3.41%\n",
      "\n",
      "> F1 score: 2.78%\n",
      "\n",
      " “The teacher asked me why I was so sad, and I told him that my dog had died. He gave me a hug and said ‘Sorry to hear that’.”\n",
      "Evaluating prompt \" “The teacher asked me why I was so sad, and I told him that my dog had died. He gave me a hug and said ‘Sorry to hear that’.”\" on 100 training samples of the go emotions dataset\n"
     ]
    },
    {
     "name": "stderr",
     "output_type": "stream",
     "text": [
      "  1%|          | 1/100 [00:27<45:34, 27.62s/it]"
     ]
    },
    {
     "name": "stdout",
     "output_type": "stream",
     "text": [
      "Prompt:\t Q:  “The teacher asked me why I was so sad, and I told him that my dog had died. He gave me a hug and said ‘Sorry to hear that’.” Text: Context is lost in the article, no way to know how it was asked or how the person was behaving. A:\n",
      "Answer:\t   The context of the situation can be inferred from the information provided in the text. Based on the statement \"The teacher asked me why I was so sad,\" it appears that the speaker was in the presence of a teacher who had noticed their sadness and asked them about it. The speaker then disclosed to the teacher that their dog had died, which elicited an expression of sympathy from the teacher (\"Sorry to hear that\"). Without additional context, it is impossible to know exactly how the situation unfolded or how the person was behaving before the teacher asked them why they were sad, but based on the information provided in\n",
      "GT:\t surprise\n",
      "Y:\t sadness\n"
     ]
    },
    {
     "name": "stderr",
     "output_type": "stream",
     "text": [
      "  2%|▏         | 2/100 [00:34<25:06, 15.37s/it]"
     ]
    },
    {
     "name": "stdout",
     "output_type": "stream",
     "text": [
      "Prompt:\t Q:  “The teacher asked me why I was so sad, and I told him that my dog had died. He gave me a hug and said ‘Sorry to hear that’.” Text: Yeah? I’ll believe it when the Packard plant is a bigger version of the Factory at franklin A:\n",
      "Answer:\t   Oh, okay! Well, if you don't mind me asking, how did your dog die? \n",
      "GT:\t pride\n",
      "Y:\t \n"
     ]
    },
    {
     "name": "stderr",
     "output_type": "stream",
     "text": [
      "  3%|▎         | 3/100 [00:35<14:23,  8.90s/it]"
     ]
    },
    {
     "name": "stdout",
     "output_type": "stream",
     "text": [
      "Prompt:\t Q:  “The teacher asked me why I was so sad, and I told him that my dog had died. He gave me a hug and said ‘Sorry to hear that’.” Text: PAC man looks too fast A:\n",
      "Answer:\t  B\n",
      "GT:\t admiration\n",
      "Y:\t \n"
     ]
    },
    {
     "name": "stderr",
     "output_type": "stream",
     "text": [
      "  4%|▍         | 4/100 [00:48<16:51, 10.54s/it]"
     ]
    },
    {
     "name": "stdout",
     "output_type": "stream",
     "text": [
      "Prompt:\t Q:  “The teacher asked me why I was so sad, and I told him that my dog had died. He gave me a hug and said ‘Sorry to hear that’.” Text: Haha thanks, I'm not cool at all but that comment made my day! Genuinely made me smile. <3 A:\n",
      "Answer:\t   The teacher is being empathetic and supportive towards you by acknowledging your loss and offering a hug. He is also being playful and light-hearted by adding “Haha thanks, I'm not cool at all” to try and make you feel better.\n",
      "GT:\t amusement gratitude joy\n",
      "Y:\t \n"
     ]
    },
    {
     "name": "stderr",
     "output_type": "stream",
     "text": [
      "  5%|▌         | 5/100 [01:08<22:09, 13.99s/it]"
     ]
    },
    {
     "name": "stdout",
     "output_type": "stream",
     "text": [
      "Prompt:\t Q:  “The teacher asked me why I was so sad, and I told him that my dog had died. He gave me a hug and said ‘Sorry to hear that’.” Text: I isst thought y’all woooshed me but then I realized what subreddit I’m on A:\n",
      "Answer:\t   “Oh no, I’m so sorry to hear about your dog! Losing a beloved pet can be incredibly difficult. It sounds like your teacher was very kind and understanding in his response. It’s important to remember that it’s okay to feel sad and to express those feelings, especially when something as significant as the loss of a pet occurs. If you ever need to talk or want any advice, feel free to reach out to me or other users here on the subreddit.”\n",
      "GT:\t pride\n",
      "Y:\t love\n"
     ]
    },
    {
     "name": "stderr",
     "output_type": "stream",
     "text": [
      "100%|██████████| 100/100 [19:49<00:00, 11.89s/it]\n"
     ]
    },
    {
     "name": "stdout",
     "output_type": "stream",
     "text": [
      "> Accuracy: 94.50%\n",
      "> Recall: 0.78%\n",
      "> Precision: 3.57%\n",
      "\n",
      "> F1 score: 1.28%\n",
      "\n",
      " The emotion of the following text is sadness.B:  I don't see any emotion in the text at all.C:  The emotion of the text is anger.D:  The emotion of the text is happiness.\n",
      "    prompt_id                                             prompt  accuracy  \\\n",
      "0           0         What is the emotion of the following text?  0.935000   \n",
      "1           1            List the emotions of the following text  0.934643   \n",
      "2           2    Say what the emotions in the following text are  0.928571   \n",
      "3           3       What are the emotions of the following text?  0.925357   \n",
      "4           4  Which are the emotions present in the followin...  0.936786   \n",
      "5           5  Write a list of all the emotions in the follow...  0.932143   \n",
      "6           6  Write all the emotions in the following text, ...  0.933214   \n",
      "7           7  Write all nouns describing the emotions in the...  0.944643   \n",
      "8           8  Write all the emotions present in the followin...  0.568571   \n",
      "9           9  Write all the emotions present in the followin...  0.531786   \n",
      "10         10   The emotions present in the text are joy, sad...  0.907143   \n",
      "11         11   The text radiates a mix of emotions, includin...  0.938214   \n",
      "12         12   The emotions of the following text are anger,...  0.913929   \n",
      "13         13   Sure! Here is the rewritten text using only t...  0.952857   \n",
      "14         14   The emotions present in the following text ar...  0.918929   \n",
      "15         15   Correct! The sentence \"The text radiates a mi...  0.947500   \n",
      "16         16   The emotions expressed in the text are sadnes...  0.908929   \n",
      "17         17  1. The narrator of \"The Yellow Wallpaper\" is f...  0.925000   \n",
      "18         18   “The teacher asked me why I was so sad, and I...  0.945000   \n",
      "\n",
      "      recall  precision  f1_score  resampling_iteration  ds_training_samples  \n",
      "0   0.156250   0.212766  0.180180                    14                  100  \n",
      "1   0.148438   0.204301  0.171946                     7                  100  \n",
      "2   0.140625   0.166667  0.152542                     7                  100  \n",
      "3   0.148438   0.159664  0.153846                     7                  100  \n",
      "4   0.171875   0.236559  0.199095                     7                  100  \n",
      "5   0.093750   0.139535  0.112150                    14                  100  \n",
      "6   0.117188   0.168539  0.138249                     7                  100  \n",
      "7   0.046875   0.153846  0.071856                     7                  100  \n",
      "8   0.476562   0.050749  0.091729                     7                  100  \n",
      "9   0.531250   0.051554  0.093988                    27                  100  \n",
      "10  0.109375   0.087500  0.097222                    14                  100  \n",
      "11  0.054688   0.118644  0.074866                     7                  100  \n",
      "12  0.085938   0.081481  0.083650                    14                  100  \n",
      "13  0.023438   0.300000  0.043478                     7                  100  \n",
      "14  0.085938   0.090909  0.088353                     2                  100  \n",
      "15  0.039062   0.172414  0.063694                     2                  100  \n",
      "16  0.109375   0.090323  0.098940                    26                  100  \n",
      "17  0.023438   0.034091  0.027778                    18                  100  \n",
      "18  0.007812   0.035714  0.012821                     7                  100  \n"
     ]
    }
   ],
   "source": [
    "import numpy as np\n",
    "import pandas as pd\n",
    "from tqdm.auto import tqdm\n",
    "import tensorflow_datasets as tfds\n",
    "# Prompt evaluation\n",
    "emotions = ['admiration', 'amusement', 'anger', 'annoyance', 'approval', 'caring', 'confusion', 'curiosity', 'desire', 'disappointment', 'disapproval', 'disgust', 'embarrassment', 'excitement', 'fear', 'gratitude', 'grief', 'joy', 'love', 'nervousness', 'neutral', 'optimism', 'pride', 'realization', 'relief', 'remorse', 'sadness', 'surprise']\n",
    "\n",
    "base_path = \"./data/prompt_search/\"\n",
    "\n",
    "#prompts = get_candidate_prompts(meta_prompt, n=10)\n",
    "\n",
    "prompts = [\n",
    "    \"What is the emotion of the following text?\",\n",
    "    \"List the emotions of the following text\",\n",
    "    \"Say what the emotions in the following text are\",\n",
    "    \"What are the emotions of the following text?\",\n",
    "    \"Which are the emotions present in the following text?\",\n",
    "    \"Write a list of all the emotions in the following text\",\n",
    "    \"Write all the emotions in the following text, include synonyms which are nouns and be repetitive\",\n",
    "    \"Write all nouns describing the emotions in the following text\",\n",
    "    \"Write all the emotions present in the following text. You can only use the following words: \" + \", \".join(emotions),\n",
    "    \"Write all the emotions present in the following text. Do not write emotions that are not present. You can only use the following words: \" + \", \".join(emotions),\n",
    "]\n",
    "\n",
    "prompt_id = 0\n",
    "prompt_results = {\n",
    "    \"prompt_id\": [],\n",
    "    \"prompt\": [],\n",
    "    \"accuracy\": [],\n",
    "    \"recall\": [],\n",
    "    \"precision\": [],\n",
    "    \"f1_score\": [],\n",
    "    \"resampling_iteration\": [],\n",
    "    \"ds_training_samples\": [],\n",
    "}\n",
    "\n",
    "resampling_iterations = 10\n",
    "prompts_per_resampling = 1\n",
    "training_samples = 100\n",
    "for i in range(resampling_iterations):\n",
    "    \n",
    "    # On the new samples \n",
    "    for prompt in prompts:\n",
    "        print(f\"Evaluating prompt \\\"{prompt}\\\" on {training_samples} training samples of the go emotions dataset\")\n",
    "        test_ds = tfds.load('huggingface:go_emotions/simplified', split=f'train[:{training_samples}]')\n",
    "        num_items, num_labels = len(test_ds), len(emotions)\n",
    "\n",
    "        accuracy_list = []\n",
    "        recall_list = []\n",
    "        \n",
    "        ds = test_ds.as_numpy_iterator()\n",
    "        y_gt_list = []\n",
    "        y_pred_list = []\n",
    "\n",
    "        inference_examples = {\n",
    "            \"prompt_id\": [],\n",
    "            \"prompt\": [],\n",
    "            \"text\": [],\n",
    "            \"output\": [],\n",
    "            \"gt_emotions\": [],\n",
    "            \"pred_emotions\": [],\n",
    "        }\n",
    "\n",
    "        for j in tqdm(range(num_items)):\n",
    "            # Get next example\n",
    "            x = ds.next()\n",
    "            x_txt = x[\"text\"].decode('utf-8')\n",
    "            \n",
    "            # Compute llm output and predictions\n",
    "            eval_prompt = \"Q: \" + prompt + \" Text: \" + x_txt + \" A:\"\n",
    "            output = llm(eval_prompt, max_tokens=128, stop=[\"Q:\", \"\\n\"], echo=False)\n",
    "            gt_emotions = [emotions[i] for i in x[\"labels\"]]\n",
    "            pred_emotions = [em for em in emotions if em in output['choices'][0]['text'].lower()]\n",
    "            \n",
    "            #if j == 3:\n",
    "            #    break\n",
    "            \n",
    "            if j < 5:\n",
    "                # Print LLM outputs and predictions\n",
    "                print(\"Prompt:\\t\", eval_prompt)\n",
    "                print(\"Answer:\\t\", output['choices'][0]['text'])\n",
    "                print(\"GT:\\t\", \" \".join(gt_emotions))\n",
    "                print(\"Y:\\t\", \" \".join(pred_emotions))\n",
    "\n",
    "                # Save inference examples\n",
    "                inference_examples[\"prompt_id\"].append(prompt_id)\n",
    "                inference_examples[\"prompt\"].append(prompt)\n",
    "                inference_examples[\"text\"].append(x_txt)\n",
    "                inference_examples[\"output\"].append(output['choices'][0]['text'])\n",
    "                inference_examples[\"gt_emotions\"].append(gt_emotions)\n",
    "                inference_examples[\"pred_emotions\"].append(pred_emotions)\n",
    "\n",
    "            # Compute ground truth and predictions as one-hot vectors\n",
    "            y_gt = np.zeros(num_labels)\n",
    "            for i in x[\"labels\"]:\n",
    "                y_gt[i] = 1\n",
    "            y_gt_list.append(y_gt)\n",
    "\n",
    "            y_pred_idxs = [i for i in range(len(emotions)) if emotions[i] in pred_emotions]\n",
    "            y_pred = np.zeros(num_labels)\n",
    "            for i in y_pred_idxs:\n",
    "                y_pred[i] = 1\n",
    "            y_pred_list.append(y_pred)\n",
    "\n",
    "        y_gt = np.array(y_gt_list)\n",
    "        y_pred = np.array(y_pred_list)\n",
    "\n",
    "        # Save prompt predictions and ground truth\n",
    "        np.save(f\"{base_path}/y_gt_{prompt_id}.npy\", y_gt)\n",
    "        np.save(f\"{base_path}/y_pred_{prompt_id}.npy\", y_pred)\n",
    "\n",
    "        # Compute prompt accuracy and recall\n",
    "        accuracy = np.sum(y_gt == y_pred) / np.prod(y_gt.shape)\n",
    "        recall = np.sum((y_gt == y_pred) & (y_gt == 1)) / np.sum(y_gt == 1)\n",
    "        precision = np.sum((y_gt == y_pred) & (y_pred == 1)) / np.sum(y_pred == 1)\n",
    "        f1 = 2 / (1/recall + 1/precision)\n",
    "        print(f\"> Accuracy: {accuracy*100:.2f}%\")\n",
    "        print(f\"> Recall: {recall*100:.2f}%\")\n",
    "        print(f\"> Precision: {precision*100:.2f}%\\n\")\n",
    "        print(f\"> F1 score: {f1*100:.2f}%\\n\")\n",
    "        \n",
    "        # Add prompt scores to results\n",
    "        prompt_results[\"prompt_id\"].append(prompt_id)\n",
    "        prompt_results[\"prompt\"].append(prompt)\n",
    "        prompt_results[\"accuracy\"].append(accuracy)\n",
    "        prompt_results[\"recall\"].append(recall)\n",
    "        prompt_results[\"precision\"].append(precision)\n",
    "        prompt_results[\"f1_score\"].append(f1)\n",
    "        prompt_results[\"resampling_iteration\"].append(i)\n",
    "        prompt_results[\"ds_training_samples\"].append(training_samples)\n",
    "\n",
    "        # Save prompt inference examples\n",
    "        df = pd.DataFrame(inference_examples)\n",
    "        df.to_csv(f\"{base_path}/inference_examples_{prompt_id}.csv\", index=False)\n",
    "        prompt_id += 1\n",
    "\n",
    "    # Resample prompts\n",
    "    old_prompts = prompt_results[\"prompt\"]\n",
    "    old_scores = prompt_results[\"f1_score\"]\n",
    "    sampling_p = np.array(old_scores) / np.sum(old_scores)\n",
    "    \n",
    "    prompts = []\n",
    "    for _ in range(prompts_per_resampling):\n",
    "        prompt_to_resample = np.random.choice(old_prompts, p=sampling_p)\n",
    "        output = llm(\"Q: Rewrite the following text while preserving its meaning. Text: \" + prompt_to_resample + \"A: \", max_tokens=128, stop=[\"Q:\", \"\\n\"], echo=False)\n",
    "        print(output['choices'][0]['text'])\n",
    "        prompts.append(output['choices'][0]['text'])\n",
    "        \n",
    "# Save results for all prompts\n",
    "df = pd.DataFrame(prompt_results)\n",
    "print(df)\n",
    "df.to_csv(f\"{base_path}/prompt_results.csv\", index=False)\n"
   ]
  },
  {
   "cell_type": "code",
   "execution_count": 6,
   "metadata": {},
   "outputs": [
    {
     "name": "stdout",
     "output_type": "stream",
     "text": [
      "Which are the emotions present in the following text?\n"
     ]
    },
    {
     "data": {
      "text/html": [
       "<style type=\"text/css\">\n",
       "#T_d876a_row0_col1 {\n",
       "  background-color: #083979;\n",
       "  color: #f1f1f1;\n",
       "}\n",
       "#T_d876a_row0_col2 {\n",
       "  background-color: #b2d2e8;\n",
       "  color: #000000;\n",
       "}\n",
       "#T_d876a_row0_col3 {\n",
       "  background-color: #1f6eb3;\n",
       "  color: #f1f1f1;\n",
       "}\n",
       "#T_d876a_row0_col4, #T_d876a_row9_col2, #T_d876a_row16_col1, #T_d876a_row16_col3 {\n",
       "  background-color: #08306b;\n",
       "  color: #f1f1f1;\n",
       "}\n",
       "#T_d876a_row1_col1 {\n",
       "  background-color: #083a7a;\n",
       "  color: #f1f1f1;\n",
       "}\n",
       "#T_d876a_row1_col2 {\n",
       "  background-color: #bcd7eb;\n",
       "  color: #000000;\n",
       "}\n",
       "#T_d876a_row1_col3, #T_d876a_row5_col4 {\n",
       "  background-color: #3585bf;\n",
       "  color: #f1f1f1;\n",
       "}\n",
       "#T_d876a_row1_col4 {\n",
       "  background-color: #084a91;\n",
       "  color: #f1f1f1;\n",
       "}\n",
       "#T_d876a_row2_col1, #T_d876a_row5_col1 {\n",
       "  background-color: #083b7c;\n",
       "  color: #f1f1f1;\n",
       "}\n",
       "#T_d876a_row2_col2, #T_d876a_row3_col2 {\n",
       "  background-color: #c1d9ed;\n",
       "  color: #000000;\n",
       "}\n",
       "#T_d876a_row2_col3 {\n",
       "  background-color: #3e8ec4;\n",
       "  color: #f1f1f1;\n",
       "}\n",
       "#T_d876a_row2_col4 {\n",
       "  background-color: #0c56a0;\n",
       "  color: #f1f1f1;\n",
       "}\n",
       "#T_d876a_row3_col1, #T_d876a_row17_col1 {\n",
       "  background-color: #084184;\n",
       "  color: #f1f1f1;\n",
       "}\n",
       "#T_d876a_row3_col3 {\n",
       "  background-color: #77b5d9;\n",
       "  color: #000000;\n",
       "}\n",
       "#T_d876a_row3_col4 {\n",
       "  background-color: #206fb4;\n",
       "  color: #f1f1f1;\n",
       "}\n",
       "#T_d876a_row4_col1 {\n",
       "  background-color: #083e81;\n",
       "  color: #f1f1f1;\n",
       "}\n",
       "#T_d876a_row4_col2 {\n",
       "  background-color: #c6dbef;\n",
       "  color: #000000;\n",
       "}\n",
       "#T_d876a_row4_col3 {\n",
       "  background-color: #6caed6;\n",
       "  color: #f1f1f1;\n",
       "}\n",
       "#T_d876a_row4_col4 {\n",
       "  background-color: #2070b4;\n",
       "  color: #f1f1f1;\n",
       "}\n",
       "#T_d876a_row5_col2 {\n",
       "  background-color: #cee0f2;\n",
       "  color: #000000;\n",
       "}\n",
       "#T_d876a_row5_col3 {\n",
       "  background-color: #69add5;\n",
       "  color: #f1f1f1;\n",
       "}\n",
       "#T_d876a_row6_col1 {\n",
       "  background-color: #083c7d;\n",
       "  color: #f1f1f1;\n",
       "}\n",
       "#T_d876a_row6_col2, #T_d876a_row16_col4 {\n",
       "  background-color: #d6e6f4;\n",
       "  color: #000000;\n",
       "}\n",
       "#T_d876a_row6_col3 {\n",
       "  background-color: #95c5df;\n",
       "  color: #000000;\n",
       "}\n",
       "#T_d876a_row6_col4 {\n",
       "  background-color: #60a7d2;\n",
       "  color: #f1f1f1;\n",
       "}\n",
       "#T_d876a_row7_col1, #T_d876a_row10_col2 {\n",
       "  background-color: #084b93;\n",
       "  color: #f1f1f1;\n",
       "}\n",
       "#T_d876a_row7_col2, #T_d876a_row8_col2 {\n",
       "  background-color: #d1e2f3;\n",
       "  color: #000000;\n",
       "}\n",
       "#T_d876a_row7_col3, #T_d876a_row11_col3 {\n",
       "  background-color: #cde0f1;\n",
       "  color: #000000;\n",
       "}\n",
       "#T_d876a_row7_col4 {\n",
       "  background-color: #7ab6d9;\n",
       "  color: #000000;\n",
       "}\n",
       "#T_d876a_row8_col1 {\n",
       "  background-color: #084c95;\n",
       "  color: #f1f1f1;\n",
       "}\n",
       "#T_d876a_row8_col3 {\n",
       "  background-color: #d0e1f2;\n",
       "  color: #000000;\n",
       "}\n",
       "#T_d876a_row8_col4, #T_d876a_row14_col3 {\n",
       "  background-color: #7fb9da;\n",
       "  color: #000000;\n",
       "}\n",
       "#T_d876a_row9_col1, #T_d876a_row17_col3, #T_d876a_row18_col2, #T_d876a_row18_col4 {\n",
       "  background-color: #f7fbff;\n",
       "  color: #000000;\n",
       "}\n",
       "#T_d876a_row9_col3, #T_d876a_row10_col3 {\n",
       "  background-color: #eaf3fb;\n",
       "  color: #000000;\n",
       "}\n",
       "#T_d876a_row9_col4 {\n",
       "  background-color: #85bcdc;\n",
       "  color: #000000;\n",
       "}\n",
       "#T_d876a_row10_col1, #T_d876a_row13_col2 {\n",
       "  background-color: #e6f0f9;\n",
       "  color: #000000;\n",
       "}\n",
       "#T_d876a_row10_col4 {\n",
       "  background-color: #8abfdd;\n",
       "  color: #000000;\n",
       "}\n",
       "#T_d876a_row11_col1 {\n",
       "  background-color: #08458a;\n",
       "  color: #f1f1f1;\n",
       "}\n",
       "#T_d876a_row11_col2, #T_d876a_row12_col2 {\n",
       "  background-color: #d9e8f5;\n",
       "  color: #000000;\n",
       "}\n",
       "#T_d876a_row11_col4 {\n",
       "  background-color: #92c4de;\n",
       "  color: #000000;\n",
       "}\n",
       "#T_d876a_row12_col1 {\n",
       "  background-color: #08488e;\n",
       "  color: #f1f1f1;\n",
       "}\n",
       "#T_d876a_row12_col3 {\n",
       "  background-color: #d4e4f4;\n",
       "  color: #000000;\n",
       "}\n",
       "#T_d876a_row12_col4 {\n",
       "  background-color: #9cc9e1;\n",
       "  color: #000000;\n",
       "}\n",
       "#T_d876a_row13_col1 {\n",
       "  background-color: #083877;\n",
       "  color: #f1f1f1;\n",
       "}\n",
       "#T_d876a_row13_col3, #T_d876a_row14_col4 {\n",
       "  background-color: #b0d2e7;\n",
       "  color: #000000;\n",
       "}\n",
       "#T_d876a_row13_col4 {\n",
       "  background-color: #abd0e6;\n",
       "  color: #000000;\n",
       "}\n",
       "#T_d876a_row14_col1, #T_d876a_row18_col1 {\n",
       "  background-color: #083471;\n",
       "  color: #f1f1f1;\n",
       "}\n",
       "#T_d876a_row14_col2 {\n",
       "  background-color: #e8f1fa;\n",
       "  color: #000000;\n",
       "}\n",
       "#T_d876a_row15_col1 {\n",
       "  background-color: #083370;\n",
       "  color: #f1f1f1;\n",
       "}\n",
       "#T_d876a_row15_col2 {\n",
       "  background-color: #ebf3fb;\n",
       "  color: #000000;\n",
       "}\n",
       "#T_d876a_row15_col3 {\n",
       "  background-color: #64a9d3;\n",
       "  color: #f1f1f1;\n",
       "}\n",
       "#T_d876a_row15_col4 {\n",
       "  background-color: #bfd8ed;\n",
       "  color: #000000;\n",
       "}\n",
       "#T_d876a_row16_col2, #T_d876a_row17_col2 {\n",
       "  background-color: #f2f7fd;\n",
       "  color: #000000;\n",
       "}\n",
       "#T_d876a_row17_col4 {\n",
       "  background-color: #e7f1fa;\n",
       "  color: #000000;\n",
       "}\n",
       "#T_d876a_row18_col3 {\n",
       "  background-color: #f6faff;\n",
       "  color: #000000;\n",
       "}\n",
       "</style>\n",
       "<table id=\"T_d876a\">\n",
       "  <thead>\n",
       "    <tr>\n",
       "      <th id=\"T_d876a_level0_col0\" class=\"col_heading level0 col0\" >prompt</th>\n",
       "      <th id=\"T_d876a_level0_col1\" class=\"col_heading level0 col1\" >accuracy</th>\n",
       "      <th id=\"T_d876a_level0_col2\" class=\"col_heading level0 col2\" >recall</th>\n",
       "      <th id=\"T_d876a_level0_col3\" class=\"col_heading level0 col3\" >precision</th>\n",
       "      <th id=\"T_d876a_level0_col4\" class=\"col_heading level0 col4\" >f1_score</th>\n",
       "    </tr>\n",
       "  </thead>\n",
       "  <tbody>\n",
       "    <tr>\n",
       "      <td id=\"T_d876a_row0_col0\" class=\"data row0 col0\" >Which are the emotions present in the following text?</td>\n",
       "      <td id=\"T_d876a_row0_col1\" class=\"data row0 col1\" >0.936786</td>\n",
       "      <td id=\"T_d876a_row0_col2\" class=\"data row0 col2\" >0.171875</td>\n",
       "      <td id=\"T_d876a_row0_col3\" class=\"data row0 col3\" >0.236559</td>\n",
       "      <td id=\"T_d876a_row0_col4\" class=\"data row0 col4\" >0.199095</td>\n",
       "    </tr>\n",
       "    <tr>\n",
       "      <td id=\"T_d876a_row1_col0\" class=\"data row1 col0\" >What is the emotion of the following text?</td>\n",
       "      <td id=\"T_d876a_row1_col1\" class=\"data row1 col1\" >0.935000</td>\n",
       "      <td id=\"T_d876a_row1_col2\" class=\"data row1 col2\" >0.156250</td>\n",
       "      <td id=\"T_d876a_row1_col3\" class=\"data row1 col3\" >0.212766</td>\n",
       "      <td id=\"T_d876a_row1_col4\" class=\"data row1 col4\" >0.180180</td>\n",
       "    </tr>\n",
       "    <tr>\n",
       "      <td id=\"T_d876a_row2_col0\" class=\"data row2 col0\" >List the emotions of the following text</td>\n",
       "      <td id=\"T_d876a_row2_col1\" class=\"data row2 col1\" >0.934643</td>\n",
       "      <td id=\"T_d876a_row2_col2\" class=\"data row2 col2\" >0.148438</td>\n",
       "      <td id=\"T_d876a_row2_col3\" class=\"data row2 col3\" >0.204301</td>\n",
       "      <td id=\"T_d876a_row2_col4\" class=\"data row2 col4\" >0.171946</td>\n",
       "    </tr>\n",
       "    <tr>\n",
       "      <td id=\"T_d876a_row3_col0\" class=\"data row3 col0\" >What are the emotions of the following text?</td>\n",
       "      <td id=\"T_d876a_row3_col1\" class=\"data row3 col1\" >0.925357</td>\n",
       "      <td id=\"T_d876a_row3_col2\" class=\"data row3 col2\" >0.148438</td>\n",
       "      <td id=\"T_d876a_row3_col3\" class=\"data row3 col3\" >0.159664</td>\n",
       "      <td id=\"T_d876a_row3_col4\" class=\"data row3 col4\" >0.153846</td>\n",
       "    </tr>\n",
       "    <tr>\n",
       "      <td id=\"T_d876a_row4_col0\" class=\"data row4 col0\" >Say what the emotions in the following text are</td>\n",
       "      <td id=\"T_d876a_row4_col1\" class=\"data row4 col1\" >0.928571</td>\n",
       "      <td id=\"T_d876a_row4_col2\" class=\"data row4 col2\" >0.140625</td>\n",
       "      <td id=\"T_d876a_row4_col3\" class=\"data row4 col3\" >0.166667</td>\n",
       "      <td id=\"T_d876a_row4_col4\" class=\"data row4 col4\" >0.152542</td>\n",
       "    </tr>\n",
       "    <tr>\n",
       "      <td id=\"T_d876a_row5_col0\" class=\"data row5 col0\" >Write all the emotions in the following text, include synonyms which are nouns and be repetitive</td>\n",
       "      <td id=\"T_d876a_row5_col1\" class=\"data row5 col1\" >0.933214</td>\n",
       "      <td id=\"T_d876a_row5_col2\" class=\"data row5 col2\" >0.117188</td>\n",
       "      <td id=\"T_d876a_row5_col3\" class=\"data row5 col3\" >0.168539</td>\n",
       "      <td id=\"T_d876a_row5_col4\" class=\"data row5 col4\" >0.138249</td>\n",
       "    </tr>\n",
       "    <tr>\n",
       "      <td id=\"T_d876a_row6_col0\" class=\"data row6 col0\" >Write a list of all the emotions in the following text</td>\n",
       "      <td id=\"T_d876a_row6_col1\" class=\"data row6 col1\" >0.932143</td>\n",
       "      <td id=\"T_d876a_row6_col2\" class=\"data row6 col2\" >0.093750</td>\n",
       "      <td id=\"T_d876a_row6_col3\" class=\"data row6 col3\" >0.139535</td>\n",
       "      <td id=\"T_d876a_row6_col4\" class=\"data row6 col4\" >0.112150</td>\n",
       "    </tr>\n",
       "    <tr>\n",
       "      <td id=\"T_d876a_row7_col0\" class=\"data row7 col0\" > The emotions expressed in the text are sadness, fear, and anger.</td>\n",
       "      <td id=\"T_d876a_row7_col1\" class=\"data row7 col1\" >0.908929</td>\n",
       "      <td id=\"T_d876a_row7_col2\" class=\"data row7 col2\" >0.109375</td>\n",
       "      <td id=\"T_d876a_row7_col3\" class=\"data row7 col3\" >0.090323</td>\n",
       "      <td id=\"T_d876a_row7_col4\" class=\"data row7 col4\" >0.098940</td>\n",
       "    </tr>\n",
       "    <tr>\n",
       "      <td id=\"T_d876a_row8_col0\" class=\"data row8 col0\" > The emotions present in the text are joy, sadness, and fear.</td>\n",
       "      <td id=\"T_d876a_row8_col1\" class=\"data row8 col1\" >0.907143</td>\n",
       "      <td id=\"T_d876a_row8_col2\" class=\"data row8 col2\" >0.109375</td>\n",
       "      <td id=\"T_d876a_row8_col3\" class=\"data row8 col3\" >0.087500</td>\n",
       "      <td id=\"T_d876a_row8_col4\" class=\"data row8 col4\" >0.097222</td>\n",
       "    </tr>\n",
       "    <tr>\n",
       "      <td id=\"T_d876a_row9_col0\" class=\"data row9 col0\" >Write all the emotions present in the following text. Do not write emotions that are not present. You can only use the following words: admiration, amusement, anger, annoyance, approval, caring, confusion, curiosity, desire, disappointment, disapproval, disgust, embarrassment, excitement, fear, gratitude, grief, joy, love, nervousness, neutral, optimism, pride, realization, relief, remorse, sadness, surprise</td>\n",
       "      <td id=\"T_d876a_row9_col1\" class=\"data row9 col1\" >0.531786</td>\n",
       "      <td id=\"T_d876a_row9_col2\" class=\"data row9 col2\" >0.531250</td>\n",
       "      <td id=\"T_d876a_row9_col3\" class=\"data row9 col3\" >0.051554</td>\n",
       "      <td id=\"T_d876a_row9_col4\" class=\"data row9 col4\" >0.093988</td>\n",
       "    </tr>\n",
       "    <tr>\n",
       "      <td id=\"T_d876a_row10_col0\" class=\"data row10 col0\" >Write all the emotions present in the following text. You can only use the following words: admiration, amusement, anger, annoyance, approval, caring, confusion, curiosity, desire, disappointment, disapproval, disgust, embarrassment, excitement, fear, gratitude, grief, joy, love, nervousness, neutral, optimism, pride, realization, relief, remorse, sadness, surprise</td>\n",
       "      <td id=\"T_d876a_row10_col1\" class=\"data row10 col1\" >0.568571</td>\n",
       "      <td id=\"T_d876a_row10_col2\" class=\"data row10 col2\" >0.476562</td>\n",
       "      <td id=\"T_d876a_row10_col3\" class=\"data row10 col3\" >0.050749</td>\n",
       "      <td id=\"T_d876a_row10_col4\" class=\"data row10 col4\" >0.091729</td>\n",
       "    </tr>\n",
       "    <tr>\n",
       "      <td id=\"T_d876a_row11_col0\" class=\"data row11 col0\" > The emotions present in the following text are anger, frustration, and sadness.</td>\n",
       "      <td id=\"T_d876a_row11_col1\" class=\"data row11 col1\" >0.918929</td>\n",
       "      <td id=\"T_d876a_row11_col2\" class=\"data row11 col2\" >0.085938</td>\n",
       "      <td id=\"T_d876a_row11_col3\" class=\"data row11 col3\" >0.090909</td>\n",
       "      <td id=\"T_d876a_row11_col4\" class=\"data row11 col4\" >0.088353</td>\n",
       "    </tr>\n",
       "    <tr>\n",
       "      <td id=\"T_d876a_row12_col0\" class=\"data row12 col0\" > The emotions of the following text are anger, sadness, and fear.</td>\n",
       "      <td id=\"T_d876a_row12_col1\" class=\"data row12 col1\" >0.913929</td>\n",
       "      <td id=\"T_d876a_row12_col2\" class=\"data row12 col2\" >0.085938</td>\n",
       "      <td id=\"T_d876a_row12_col3\" class=\"data row12 col3\" >0.081481</td>\n",
       "      <td id=\"T_d876a_row12_col4\" class=\"data row12 col4\" >0.083650</td>\n",
       "    </tr>\n",
       "    <tr>\n",
       "      <td id=\"T_d876a_row13_col0\" class=\"data row13 col0\" > The text radiates a mix of emotions, including delight, sorrow, and apprehension.B:  The tone of the passage is characterized by a blend of happiness, melancholy, and trepidation.C:  The feelings conveyed in the writing are glee, sorrow, and dread.D:  The emotional undercurrent of the text is a combination of joy, sadness, and anxiety.</td>\n",
       "      <td id=\"T_d876a_row13_col1\" class=\"data row13 col1\" >0.938214</td>\n",
       "      <td id=\"T_d876a_row13_col2\" class=\"data row13 col2\" >0.054688</td>\n",
       "      <td id=\"T_d876a_row13_col3\" class=\"data row13 col3\" >0.118644</td>\n",
       "      <td id=\"T_d876a_row13_col4\" class=\"data row13 col4\" >0.074866</td>\n",
       "    </tr>\n",
       "    <tr>\n",
       "      <td id=\"T_d876a_row14_col0\" class=\"data row14 col0\" >Write all nouns describing the emotions in the following text</td>\n",
       "      <td id=\"T_d876a_row14_col1\" class=\"data row14 col1\" >0.944643</td>\n",
       "      <td id=\"T_d876a_row14_col2\" class=\"data row14 col2\" >0.046875</td>\n",
       "      <td id=\"T_d876a_row14_col3\" class=\"data row14 col3\" >0.153846</td>\n",
       "      <td id=\"T_d876a_row14_col4\" class=\"data row14 col4\" >0.071856</td>\n",
       "    </tr>\n",
       "    <tr>\n",
       "      <td id=\"T_d876a_row15_col0\" class=\"data row15 col0\" > Correct! The sentence \"The text radiates a mix of emotions\" can be rewritten as \"The tone of the passage is characterized by a blend of happiness, melancholy, and trepidation.\"</td>\n",
       "      <td id=\"T_d876a_row15_col1\" class=\"data row15 col1\" >0.947500</td>\n",
       "      <td id=\"T_d876a_row15_col2\" class=\"data row15 col2\" >0.039062</td>\n",
       "      <td id=\"T_d876a_row15_col3\" class=\"data row15 col3\" >0.172414</td>\n",
       "      <td id=\"T_d876a_row15_col4\" class=\"data row15 col4\" >0.063694</td>\n",
       "    </tr>\n",
       "    <tr>\n",
       "      <td id=\"T_d876a_row16_col0\" class=\"data row16 col0\" > Sure! Here is the rewritten text using only the words you provided:</td>\n",
       "      <td id=\"T_d876a_row16_col1\" class=\"data row16 col1\" >0.952857</td>\n",
       "      <td id=\"T_d876a_row16_col2\" class=\"data row16 col2\" >0.023438</td>\n",
       "      <td id=\"T_d876a_row16_col3\" class=\"data row16 col3\" >0.300000</td>\n",
       "      <td id=\"T_d876a_row16_col4\" class=\"data row16 col4\" >0.043478</td>\n",
       "    </tr>\n",
       "    <tr>\n",
       "      <td id=\"T_d876a_row17_col0\" class=\"data row17 col0\" >1. The narrator of \"The Yellow Wallpaper\" is feeling hopeless and desperate as she lies in bed, unable to move or do anything but stare at the yellow wallpaper.2. The speaker in \"The Love Song of J. Alfred Prufrock\" is experiencing a mix of anxiety and self-consciousness as he stands at his window, watching people passing by on the street below.3. In \"The Raven,\" the narrator is feeling melancholy and isolated as he sits alone in his chamber, listening to the raven's mournful cries.</td>\n",
       "      <td id=\"T_d876a_row17_col1\" class=\"data row17 col1\" >0.925000</td>\n",
       "      <td id=\"T_d876a_row17_col2\" class=\"data row17 col2\" >0.023438</td>\n",
       "      <td id=\"T_d876a_row17_col3\" class=\"data row17 col3\" >0.034091</td>\n",
       "      <td id=\"T_d876a_row17_col4\" class=\"data row17 col4\" >0.027778</td>\n",
       "    </tr>\n",
       "    <tr>\n",
       "      <td id=\"T_d876a_row18_col0\" class=\"data row18 col0\" > “The teacher asked me why I was so sad, and I told him that my dog had died. He gave me a hug and said ‘Sorry to hear that’.”</td>\n",
       "      <td id=\"T_d876a_row18_col1\" class=\"data row18 col1\" >0.945000</td>\n",
       "      <td id=\"T_d876a_row18_col2\" class=\"data row18 col2\" >0.007812</td>\n",
       "      <td id=\"T_d876a_row18_col3\" class=\"data row18 col3\" >0.035714</td>\n",
       "      <td id=\"T_d876a_row18_col4\" class=\"data row18 col4\" >0.012821</td>\n",
       "    </tr>\n",
       "  </tbody>\n",
       "</table>\n"
      ],
      "text/plain": [
       "<pandas.io.formats.style.Styler at 0x7f15340de5b0>"
      ]
     },
     "metadata": {},
     "output_type": "display_data"
    },
    {
     "name": "stdout",
     "output_type": "stream",
     "text": [
      "Write all the emotions present in the following text. Do not write emotions that are not present. You can only use the following words: admiration, amusement, anger, annoyance, approval, caring, confusion, curiosity, desire, disappointment, disapproval, disgust, embarrassment, excitement, fear, gratitude, grief, joy, love, nervousness, neutral, optimism, pride, realization, relief, remorse, sadness, surprise\n"
     ]
    },
    {
     "data": {
      "text/html": [
       "<style type=\"text/css\">\n",
       "#T_fd478_row0_col1, #T_fd478_row17_col3, #T_fd478_row18_col2, #T_fd478_row18_col4 {\n",
       "  background-color: #f7fbff;\n",
       "  color: #000000;\n",
       "}\n",
       "#T_fd478_row0_col2, #T_fd478_row2_col4, #T_fd478_row16_col1, #T_fd478_row16_col3 {\n",
       "  background-color: #08306b;\n",
       "  color: #f1f1f1;\n",
       "}\n",
       "#T_fd478_row0_col3, #T_fd478_row1_col3 {\n",
       "  background-color: #eaf3fb;\n",
       "  color: #000000;\n",
       "}\n",
       "#T_fd478_row0_col4 {\n",
       "  background-color: #85bcdc;\n",
       "  color: #000000;\n",
       "}\n",
       "#T_fd478_row1_col1, #T_fd478_row13_col2 {\n",
       "  background-color: #e6f0f9;\n",
       "  color: #000000;\n",
       "}\n",
       "#T_fd478_row1_col2, #T_fd478_row8_col1 {\n",
       "  background-color: #084b93;\n",
       "  color: #f1f1f1;\n",
       "}\n",
       "#T_fd478_row1_col4 {\n",
       "  background-color: #8abfdd;\n",
       "  color: #000000;\n",
       "}\n",
       "#T_fd478_row2_col1 {\n",
       "  background-color: #083979;\n",
       "  color: #f1f1f1;\n",
       "}\n",
       "#T_fd478_row2_col2 {\n",
       "  background-color: #b2d2e8;\n",
       "  color: #000000;\n",
       "}\n",
       "#T_fd478_row2_col3 {\n",
       "  background-color: #1f6eb3;\n",
       "  color: #f1f1f1;\n",
       "}\n",
       "#T_fd478_row3_col1 {\n",
       "  background-color: #083a7a;\n",
       "  color: #f1f1f1;\n",
       "}\n",
       "#T_fd478_row3_col2 {\n",
       "  background-color: #bcd7eb;\n",
       "  color: #000000;\n",
       "}\n",
       "#T_fd478_row3_col3, #T_fd478_row7_col4 {\n",
       "  background-color: #3585bf;\n",
       "  color: #f1f1f1;\n",
       "}\n",
       "#T_fd478_row3_col4 {\n",
       "  background-color: #084a91;\n",
       "  color: #f1f1f1;\n",
       "}\n",
       "#T_fd478_row4_col1, #T_fd478_row17_col1 {\n",
       "  background-color: #084184;\n",
       "  color: #f1f1f1;\n",
       "}\n",
       "#T_fd478_row4_col2, #T_fd478_row5_col2 {\n",
       "  background-color: #c1d9ed;\n",
       "  color: #000000;\n",
       "}\n",
       "#T_fd478_row4_col3 {\n",
       "  background-color: #77b5d9;\n",
       "  color: #000000;\n",
       "}\n",
       "#T_fd478_row4_col4 {\n",
       "  background-color: #206fb4;\n",
       "  color: #f1f1f1;\n",
       "}\n",
       "#T_fd478_row5_col1, #T_fd478_row7_col1 {\n",
       "  background-color: #083b7c;\n",
       "  color: #f1f1f1;\n",
       "}\n",
       "#T_fd478_row5_col3 {\n",
       "  background-color: #3e8ec4;\n",
       "  color: #f1f1f1;\n",
       "}\n",
       "#T_fd478_row5_col4 {\n",
       "  background-color: #0c56a0;\n",
       "  color: #f1f1f1;\n",
       "}\n",
       "#T_fd478_row6_col1 {\n",
       "  background-color: #083e81;\n",
       "  color: #f1f1f1;\n",
       "}\n",
       "#T_fd478_row6_col2 {\n",
       "  background-color: #c6dbef;\n",
       "  color: #000000;\n",
       "}\n",
       "#T_fd478_row6_col3 {\n",
       "  background-color: #6caed6;\n",
       "  color: #f1f1f1;\n",
       "}\n",
       "#T_fd478_row6_col4 {\n",
       "  background-color: #2070b4;\n",
       "  color: #f1f1f1;\n",
       "}\n",
       "#T_fd478_row7_col2 {\n",
       "  background-color: #cee0f2;\n",
       "  color: #000000;\n",
       "}\n",
       "#T_fd478_row7_col3 {\n",
       "  background-color: #69add5;\n",
       "  color: #f1f1f1;\n",
       "}\n",
       "#T_fd478_row8_col2, #T_fd478_row9_col2 {\n",
       "  background-color: #d1e2f3;\n",
       "  color: #000000;\n",
       "}\n",
       "#T_fd478_row8_col3, #T_fd478_row11_col3 {\n",
       "  background-color: #cde0f1;\n",
       "  color: #000000;\n",
       "}\n",
       "#T_fd478_row8_col4 {\n",
       "  background-color: #7ab6d9;\n",
       "  color: #000000;\n",
       "}\n",
       "#T_fd478_row9_col1 {\n",
       "  background-color: #084c95;\n",
       "  color: #f1f1f1;\n",
       "}\n",
       "#T_fd478_row9_col3 {\n",
       "  background-color: #d0e1f2;\n",
       "  color: #000000;\n",
       "}\n",
       "#T_fd478_row9_col4, #T_fd478_row14_col3 {\n",
       "  background-color: #7fb9da;\n",
       "  color: #000000;\n",
       "}\n",
       "#T_fd478_row10_col1 {\n",
       "  background-color: #083c7d;\n",
       "  color: #f1f1f1;\n",
       "}\n",
       "#T_fd478_row10_col2, #T_fd478_row16_col4 {\n",
       "  background-color: #d6e6f4;\n",
       "  color: #000000;\n",
       "}\n",
       "#T_fd478_row10_col3 {\n",
       "  background-color: #95c5df;\n",
       "  color: #000000;\n",
       "}\n",
       "#T_fd478_row10_col4 {\n",
       "  background-color: #60a7d2;\n",
       "  color: #f1f1f1;\n",
       "}\n",
       "#T_fd478_row11_col1 {\n",
       "  background-color: #08458a;\n",
       "  color: #f1f1f1;\n",
       "}\n",
       "#T_fd478_row11_col2, #T_fd478_row12_col2 {\n",
       "  background-color: #d9e8f5;\n",
       "  color: #000000;\n",
       "}\n",
       "#T_fd478_row11_col4 {\n",
       "  background-color: #92c4de;\n",
       "  color: #000000;\n",
       "}\n",
       "#T_fd478_row12_col1 {\n",
       "  background-color: #08488e;\n",
       "  color: #f1f1f1;\n",
       "}\n",
       "#T_fd478_row12_col3 {\n",
       "  background-color: #d4e4f4;\n",
       "  color: #000000;\n",
       "}\n",
       "#T_fd478_row12_col4 {\n",
       "  background-color: #9cc9e1;\n",
       "  color: #000000;\n",
       "}\n",
       "#T_fd478_row13_col1 {\n",
       "  background-color: #083877;\n",
       "  color: #f1f1f1;\n",
       "}\n",
       "#T_fd478_row13_col3, #T_fd478_row14_col4 {\n",
       "  background-color: #b0d2e7;\n",
       "  color: #000000;\n",
       "}\n",
       "#T_fd478_row13_col4 {\n",
       "  background-color: #abd0e6;\n",
       "  color: #000000;\n",
       "}\n",
       "#T_fd478_row14_col1, #T_fd478_row18_col1 {\n",
       "  background-color: #083471;\n",
       "  color: #f1f1f1;\n",
       "}\n",
       "#T_fd478_row14_col2 {\n",
       "  background-color: #e8f1fa;\n",
       "  color: #000000;\n",
       "}\n",
       "#T_fd478_row15_col1 {\n",
       "  background-color: #083370;\n",
       "  color: #f1f1f1;\n",
       "}\n",
       "#T_fd478_row15_col2 {\n",
       "  background-color: #ebf3fb;\n",
       "  color: #000000;\n",
       "}\n",
       "#T_fd478_row15_col3 {\n",
       "  background-color: #64a9d3;\n",
       "  color: #f1f1f1;\n",
       "}\n",
       "#T_fd478_row15_col4 {\n",
       "  background-color: #bfd8ed;\n",
       "  color: #000000;\n",
       "}\n",
       "#T_fd478_row16_col2, #T_fd478_row17_col2 {\n",
       "  background-color: #f2f7fd;\n",
       "  color: #000000;\n",
       "}\n",
       "#T_fd478_row17_col4 {\n",
       "  background-color: #e7f1fa;\n",
       "  color: #000000;\n",
       "}\n",
       "#T_fd478_row18_col3 {\n",
       "  background-color: #f6faff;\n",
       "  color: #000000;\n",
       "}\n",
       "</style>\n",
       "<table id=\"T_fd478\">\n",
       "  <thead>\n",
       "    <tr>\n",
       "      <th id=\"T_fd478_level0_col0\" class=\"col_heading level0 col0\" >prompt</th>\n",
       "      <th id=\"T_fd478_level0_col1\" class=\"col_heading level0 col1\" >accuracy</th>\n",
       "      <th id=\"T_fd478_level0_col2\" class=\"col_heading level0 col2\" >recall</th>\n",
       "      <th id=\"T_fd478_level0_col3\" class=\"col_heading level0 col3\" >precision</th>\n",
       "      <th id=\"T_fd478_level0_col4\" class=\"col_heading level0 col4\" >f1_score</th>\n",
       "    </tr>\n",
       "  </thead>\n",
       "  <tbody>\n",
       "    <tr>\n",
       "      <td id=\"T_fd478_row0_col0\" class=\"data row0 col0\" >Write all the emotions present in the following text. Do not write emotions that are not present. You can only use the following words: admiration, amusement, anger, annoyance, approval, caring, confusion, curiosity, desire, disappointment, disapproval, disgust, embarrassment, excitement, fear, gratitude, grief, joy, love, nervousness, neutral, optimism, pride, realization, relief, remorse, sadness, surprise</td>\n",
       "      <td id=\"T_fd478_row0_col1\" class=\"data row0 col1\" >0.531786</td>\n",
       "      <td id=\"T_fd478_row0_col2\" class=\"data row0 col2\" >0.531250</td>\n",
       "      <td id=\"T_fd478_row0_col3\" class=\"data row0 col3\" >0.051554</td>\n",
       "      <td id=\"T_fd478_row0_col4\" class=\"data row0 col4\" >0.093988</td>\n",
       "    </tr>\n",
       "    <tr>\n",
       "      <td id=\"T_fd478_row1_col0\" class=\"data row1 col0\" >Write all the emotions present in the following text. You can only use the following words: admiration, amusement, anger, annoyance, approval, caring, confusion, curiosity, desire, disappointment, disapproval, disgust, embarrassment, excitement, fear, gratitude, grief, joy, love, nervousness, neutral, optimism, pride, realization, relief, remorse, sadness, surprise</td>\n",
       "      <td id=\"T_fd478_row1_col1\" class=\"data row1 col1\" >0.568571</td>\n",
       "      <td id=\"T_fd478_row1_col2\" class=\"data row1 col2\" >0.476562</td>\n",
       "      <td id=\"T_fd478_row1_col3\" class=\"data row1 col3\" >0.050749</td>\n",
       "      <td id=\"T_fd478_row1_col4\" class=\"data row1 col4\" >0.091729</td>\n",
       "    </tr>\n",
       "    <tr>\n",
       "      <td id=\"T_fd478_row2_col0\" class=\"data row2 col0\" >Which are the emotions present in the following text?</td>\n",
       "      <td id=\"T_fd478_row2_col1\" class=\"data row2 col1\" >0.936786</td>\n",
       "      <td id=\"T_fd478_row2_col2\" class=\"data row2 col2\" >0.171875</td>\n",
       "      <td id=\"T_fd478_row2_col3\" class=\"data row2 col3\" >0.236559</td>\n",
       "      <td id=\"T_fd478_row2_col4\" class=\"data row2 col4\" >0.199095</td>\n",
       "    </tr>\n",
       "    <tr>\n",
       "      <td id=\"T_fd478_row3_col0\" class=\"data row3 col0\" >What is the emotion of the following text?</td>\n",
       "      <td id=\"T_fd478_row3_col1\" class=\"data row3 col1\" >0.935000</td>\n",
       "      <td id=\"T_fd478_row3_col2\" class=\"data row3 col2\" >0.156250</td>\n",
       "      <td id=\"T_fd478_row3_col3\" class=\"data row3 col3\" >0.212766</td>\n",
       "      <td id=\"T_fd478_row3_col4\" class=\"data row3 col4\" >0.180180</td>\n",
       "    </tr>\n",
       "    <tr>\n",
       "      <td id=\"T_fd478_row4_col0\" class=\"data row4 col0\" >What are the emotions of the following text?</td>\n",
       "      <td id=\"T_fd478_row4_col1\" class=\"data row4 col1\" >0.925357</td>\n",
       "      <td id=\"T_fd478_row4_col2\" class=\"data row4 col2\" >0.148438</td>\n",
       "      <td id=\"T_fd478_row4_col3\" class=\"data row4 col3\" >0.159664</td>\n",
       "      <td id=\"T_fd478_row4_col4\" class=\"data row4 col4\" >0.153846</td>\n",
       "    </tr>\n",
       "    <tr>\n",
       "      <td id=\"T_fd478_row5_col0\" class=\"data row5 col0\" >List the emotions of the following text</td>\n",
       "      <td id=\"T_fd478_row5_col1\" class=\"data row5 col1\" >0.934643</td>\n",
       "      <td id=\"T_fd478_row5_col2\" class=\"data row5 col2\" >0.148438</td>\n",
       "      <td id=\"T_fd478_row5_col3\" class=\"data row5 col3\" >0.204301</td>\n",
       "      <td id=\"T_fd478_row5_col4\" class=\"data row5 col4\" >0.171946</td>\n",
       "    </tr>\n",
       "    <tr>\n",
       "      <td id=\"T_fd478_row6_col0\" class=\"data row6 col0\" >Say what the emotions in the following text are</td>\n",
       "      <td id=\"T_fd478_row6_col1\" class=\"data row6 col1\" >0.928571</td>\n",
       "      <td id=\"T_fd478_row6_col2\" class=\"data row6 col2\" >0.140625</td>\n",
       "      <td id=\"T_fd478_row6_col3\" class=\"data row6 col3\" >0.166667</td>\n",
       "      <td id=\"T_fd478_row6_col4\" class=\"data row6 col4\" >0.152542</td>\n",
       "    </tr>\n",
       "    <tr>\n",
       "      <td id=\"T_fd478_row7_col0\" class=\"data row7 col0\" >Write all the emotions in the following text, include synonyms which are nouns and be repetitive</td>\n",
       "      <td id=\"T_fd478_row7_col1\" class=\"data row7 col1\" >0.933214</td>\n",
       "      <td id=\"T_fd478_row7_col2\" class=\"data row7 col2\" >0.117188</td>\n",
       "      <td id=\"T_fd478_row7_col3\" class=\"data row7 col3\" >0.168539</td>\n",
       "      <td id=\"T_fd478_row7_col4\" class=\"data row7 col4\" >0.138249</td>\n",
       "    </tr>\n",
       "    <tr>\n",
       "      <td id=\"T_fd478_row8_col0\" class=\"data row8 col0\" > The emotions expressed in the text are sadness, fear, and anger.</td>\n",
       "      <td id=\"T_fd478_row8_col1\" class=\"data row8 col1\" >0.908929</td>\n",
       "      <td id=\"T_fd478_row8_col2\" class=\"data row8 col2\" >0.109375</td>\n",
       "      <td id=\"T_fd478_row8_col3\" class=\"data row8 col3\" >0.090323</td>\n",
       "      <td id=\"T_fd478_row8_col4\" class=\"data row8 col4\" >0.098940</td>\n",
       "    </tr>\n",
       "    <tr>\n",
       "      <td id=\"T_fd478_row9_col0\" class=\"data row9 col0\" > The emotions present in the text are joy, sadness, and fear.</td>\n",
       "      <td id=\"T_fd478_row9_col1\" class=\"data row9 col1\" >0.907143</td>\n",
       "      <td id=\"T_fd478_row9_col2\" class=\"data row9 col2\" >0.109375</td>\n",
       "      <td id=\"T_fd478_row9_col3\" class=\"data row9 col3\" >0.087500</td>\n",
       "      <td id=\"T_fd478_row9_col4\" class=\"data row9 col4\" >0.097222</td>\n",
       "    </tr>\n",
       "    <tr>\n",
       "      <td id=\"T_fd478_row10_col0\" class=\"data row10 col0\" >Write a list of all the emotions in the following text</td>\n",
       "      <td id=\"T_fd478_row10_col1\" class=\"data row10 col1\" >0.932143</td>\n",
       "      <td id=\"T_fd478_row10_col2\" class=\"data row10 col2\" >0.093750</td>\n",
       "      <td id=\"T_fd478_row10_col3\" class=\"data row10 col3\" >0.139535</td>\n",
       "      <td id=\"T_fd478_row10_col4\" class=\"data row10 col4\" >0.112150</td>\n",
       "    </tr>\n",
       "    <tr>\n",
       "      <td id=\"T_fd478_row11_col0\" class=\"data row11 col0\" > The emotions present in the following text are anger, frustration, and sadness.</td>\n",
       "      <td id=\"T_fd478_row11_col1\" class=\"data row11 col1\" >0.918929</td>\n",
       "      <td id=\"T_fd478_row11_col2\" class=\"data row11 col2\" >0.085938</td>\n",
       "      <td id=\"T_fd478_row11_col3\" class=\"data row11 col3\" >0.090909</td>\n",
       "      <td id=\"T_fd478_row11_col4\" class=\"data row11 col4\" >0.088353</td>\n",
       "    </tr>\n",
       "    <tr>\n",
       "      <td id=\"T_fd478_row12_col0\" class=\"data row12 col0\" > The emotions of the following text are anger, sadness, and fear.</td>\n",
       "      <td id=\"T_fd478_row12_col1\" class=\"data row12 col1\" >0.913929</td>\n",
       "      <td id=\"T_fd478_row12_col2\" class=\"data row12 col2\" >0.085938</td>\n",
       "      <td id=\"T_fd478_row12_col3\" class=\"data row12 col3\" >0.081481</td>\n",
       "      <td id=\"T_fd478_row12_col4\" class=\"data row12 col4\" >0.083650</td>\n",
       "    </tr>\n",
       "    <tr>\n",
       "      <td id=\"T_fd478_row13_col0\" class=\"data row13 col0\" > The text radiates a mix of emotions, including delight, sorrow, and apprehension.B:  The tone of the passage is characterized by a blend of happiness, melancholy, and trepidation.C:  The feelings conveyed in the writing are glee, sorrow, and dread.D:  The emotional undercurrent of the text is a combination of joy, sadness, and anxiety.</td>\n",
       "      <td id=\"T_fd478_row13_col1\" class=\"data row13 col1\" >0.938214</td>\n",
       "      <td id=\"T_fd478_row13_col2\" class=\"data row13 col2\" >0.054688</td>\n",
       "      <td id=\"T_fd478_row13_col3\" class=\"data row13 col3\" >0.118644</td>\n",
       "      <td id=\"T_fd478_row13_col4\" class=\"data row13 col4\" >0.074866</td>\n",
       "    </tr>\n",
       "    <tr>\n",
       "      <td id=\"T_fd478_row14_col0\" class=\"data row14 col0\" >Write all nouns describing the emotions in the following text</td>\n",
       "      <td id=\"T_fd478_row14_col1\" class=\"data row14 col1\" >0.944643</td>\n",
       "      <td id=\"T_fd478_row14_col2\" class=\"data row14 col2\" >0.046875</td>\n",
       "      <td id=\"T_fd478_row14_col3\" class=\"data row14 col3\" >0.153846</td>\n",
       "      <td id=\"T_fd478_row14_col4\" class=\"data row14 col4\" >0.071856</td>\n",
       "    </tr>\n",
       "    <tr>\n",
       "      <td id=\"T_fd478_row15_col0\" class=\"data row15 col0\" > Correct! The sentence \"The text radiates a mix of emotions\" can be rewritten as \"The tone of the passage is characterized by a blend of happiness, melancholy, and trepidation.\"</td>\n",
       "      <td id=\"T_fd478_row15_col1\" class=\"data row15 col1\" >0.947500</td>\n",
       "      <td id=\"T_fd478_row15_col2\" class=\"data row15 col2\" >0.039062</td>\n",
       "      <td id=\"T_fd478_row15_col3\" class=\"data row15 col3\" >0.172414</td>\n",
       "      <td id=\"T_fd478_row15_col4\" class=\"data row15 col4\" >0.063694</td>\n",
       "    </tr>\n",
       "    <tr>\n",
       "      <td id=\"T_fd478_row16_col0\" class=\"data row16 col0\" > Sure! Here is the rewritten text using only the words you provided:</td>\n",
       "      <td id=\"T_fd478_row16_col1\" class=\"data row16 col1\" >0.952857</td>\n",
       "      <td id=\"T_fd478_row16_col2\" class=\"data row16 col2\" >0.023438</td>\n",
       "      <td id=\"T_fd478_row16_col3\" class=\"data row16 col3\" >0.300000</td>\n",
       "      <td id=\"T_fd478_row16_col4\" class=\"data row16 col4\" >0.043478</td>\n",
       "    </tr>\n",
       "    <tr>\n",
       "      <td id=\"T_fd478_row17_col0\" class=\"data row17 col0\" >1. The narrator of \"The Yellow Wallpaper\" is feeling hopeless and desperate as she lies in bed, unable to move or do anything but stare at the yellow wallpaper.2. The speaker in \"The Love Song of J. Alfred Prufrock\" is experiencing a mix of anxiety and self-consciousness as he stands at his window, watching people passing by on the street below.3. In \"The Raven,\" the narrator is feeling melancholy and isolated as he sits alone in his chamber, listening to the raven's mournful cries.</td>\n",
       "      <td id=\"T_fd478_row17_col1\" class=\"data row17 col1\" >0.925000</td>\n",
       "      <td id=\"T_fd478_row17_col2\" class=\"data row17 col2\" >0.023438</td>\n",
       "      <td id=\"T_fd478_row17_col3\" class=\"data row17 col3\" >0.034091</td>\n",
       "      <td id=\"T_fd478_row17_col4\" class=\"data row17 col4\" >0.027778</td>\n",
       "    </tr>\n",
       "    <tr>\n",
       "      <td id=\"T_fd478_row18_col0\" class=\"data row18 col0\" > “The teacher asked me why I was so sad, and I told him that my dog had died. He gave me a hug and said ‘Sorry to hear that’.”</td>\n",
       "      <td id=\"T_fd478_row18_col1\" class=\"data row18 col1\" >0.945000</td>\n",
       "      <td id=\"T_fd478_row18_col2\" class=\"data row18 col2\" >0.007812</td>\n",
       "      <td id=\"T_fd478_row18_col3\" class=\"data row18 col3\" >0.035714</td>\n",
       "      <td id=\"T_fd478_row18_col4\" class=\"data row18 col4\" >0.012821</td>\n",
       "    </tr>\n",
       "  </tbody>\n",
       "</table>\n"
      ],
      "text/plain": [
       "<pandas.io.formats.style.Styler at 0x7f153414ae50>"
      ]
     },
     "metadata": {},
     "output_type": "display_data"
    }
   ],
   "source": [
    "import pandas as pd\n",
    "base_path = \"./data/prompt_search/\"\n",
    "prompt_results = pd.read_csv(f\"{base_path}/prompt_results.csv\")\n",
    "#print(prompt_results)\n",
    "prompt_results = prompt_results.sort_values(by=\"f1_score\", ascending=False)\n",
    "print(prompt_results[\"prompt\"].values[0])\n",
    "\n",
    "display_prompt_results = prompt_results.drop([\"resampling_iteration\", \"ds_training_samples\", \"prompt_id\"], axis=1)\n",
    "display_prompt_results = display_prompt_results.reset_index(drop=True)\n",
    "latex = display_prompt_results.round(3).to_latex(index=False, formatters={\"name\": str.upper}, float_format=\"{:.3f}\".format)\n",
    "with open(f\"data/prompt_search/f1_prompts.tex\", \"w\") as f:\n",
    "    f.write(latex)\n",
    "\n",
    "results_hm = display_prompt_results.style.background_gradient(cmap='Blues', subset=[\"accuracy\", \"recall\", \"precision\", \"f1_score\"])\n",
    "results_hm.hide(axis='index')\n",
    "display(results_hm)\n",
    "\n",
    "with open(f\"data/prompt_search/results_by_f1.html\", \"w\") as f:\n",
    "    f.write(results_hm.to_html())\n",
    "\n",
    "display_prompt_results = prompt_results.sort_values(by=\"recall\", ascending=False)\n",
    "print(display_prompt_results[\"prompt\"].values[0])\n",
    "display_prompt_results = display_prompt_results.drop([\"resampling_iteration\", \"ds_training_samples\", \"prompt_id\"], axis=1)\n",
    "display_prompt_results = display_prompt_results.reset_index(drop=True)\n",
    "\n",
    "latex = display_prompt_results.round(3).to_latex(index=False, formatters={\"name\": str.upper}, float_format=\"{:.3f}\".format)\n",
    "with open(f\"data/prompt_search/recall_prompts.tex\", \"w\") as f:\n",
    "    f.write(latex)\n",
    "results_hm = display_prompt_results.style.background_gradient(cmap='Blues', subset=[\"accuracy\", \"recall\", \"precision\", \"f1_score\"])\n",
    "results_hm.hide(axis='index')\n",
    "display(results_hm)\n",
    "\n",
    "with open(f\"data/prompt_search/results_by_recall.html\", \"w\") as f:\n",
    "    f.write(results_hm.to_html())\n"
   ]
  },
  {
   "cell_type": "markdown",
   "metadata": {},
   "source": [
    "# --- Old code"
   ]
  },
  {
   "cell_type": "code",
   "execution_count": null,
   "metadata": {},
   "outputs": [],
   "source": [
    "raise Exception(\"Stop here\")"
   ]
  },
  {
   "cell_type": "code",
   "execution_count": 3,
   "metadata": {},
   "outputs": [
    {
     "name": "stderr",
     "output_type": "stream",
     "text": [
      "/home/maranc/miniconda3/envs/llama/lib/python3.8/site-packages/tqdm/auto.py:21: TqdmWarning: IProgress not found. Please update jupyter and ipywidgets. See https://ipywidgets.readthedocs.io/en/stable/user_install.html\n",
      "  from .autonotebook import tqdm as notebook_tqdm\n",
      "/home/maranc/miniconda3/envs/llama/lib/python3.8/site-packages/tensorflow_datasets/core/dataset_builders/huggingface_dataset_builder.py:156: FutureWarning: list_datasets is deprecated and will be removed in the next major version of datasets. Use 'huggingface_hub.list_datasets' instead.\n",
      "  hf_names = hf_datasets.list_datasets()\n",
      "2023-12-06 19:28:55.888164: I tensorflow/core/util/port.cc:110] oneDNN custom operations are on. You may see slightly different numerical results due to floating-point round-off errors from different computation orders. To turn them off, set the environment variable `TF_ENABLE_ONEDNN_OPTS=0`.\n",
      "2023-12-06 19:28:55.921387: I tensorflow/tsl/cuda/cudart_stub.cc:28] Could not find cuda drivers on your machine, GPU will not be used.\n",
      "2023-12-06 19:28:56.191955: I tensorflow/tsl/cuda/cudart_stub.cc:28] Could not find cuda drivers on your machine, GPU will not be used.\n",
      "2023-12-06 19:28:56.194081: I tensorflow/core/platform/cpu_feature_guard.cc:182] This TensorFlow binary is optimized to use available CPU instructions in performance-critical operations.\n",
      "To enable the following instructions: AVX2 AVX512F AVX512_VNNI FMA, in other operations, rebuild TensorFlow with the appropriate compiler flags.\n",
      "2023-12-06 19:28:57.783852: W tensorflow/compiler/tf2tensorrt/utils/py_utils.cc:38] TF-TRT Warning: Could not find TensorRT\n",
      "2023-12-06 19:29:00.703935: I tensorflow/compiler/xla/stream_executor/cuda/cuda_gpu_executor.cc:981] could not open file to read NUMA node: /sys/bus/pci/devices/0000:01:00.0/numa_node\n",
      "Your kernel may have been built without NUMA support.\n",
      "2023-12-06 19:29:01.051982: W tensorflow/core/common_runtime/gpu/gpu_device.cc:1960] Cannot dlopen some GPU libraries. Please make sure the missing libraries mentioned above are installed properly if you would like to use GPU. Follow the guide at https://www.tensorflow.org/install/gpu for how to download and setup the required libraries for your platform.\n",
      "Skipping registering GPU devices...\n",
      "  0%|          | 15/43410 [00:00<01:32, 468.95it/s]"
     ]
    },
    {
     "name": "stdout",
     "output_type": "stream",
     "text": [
      "['IN: Context is lost in the article, no way to know how it was asked or how the person was behaving. OUT: surprise', 'IN: Yeah? I’ll believe it when the Packard plant is a bigger version of the Factory at franklin OUT: pride', \"IN: Haha thanks, I'm not cool at all but that comment made my day! Genuinely made me smile. <3 OUT: joy\", 'IN: You forgot blue passports OUT: annoyance', \"IN: I'm saying put up or shut up. If you can't back up your point with evidence, your opinion is worthless.  OUT: anger\", 'IN: Sorry I thought you called me dumb. Long story. A misunderstanding. Sorry OUT: relief']\n",
      "6\n",
      "Q: A relationship connects these input-output pairs: \n",
      "IN: Context is lost in the article, no way to know how it was asked or how the person was behaving. OUT: surprise\n",
      "IN: Yeah? I’ll believe it when the Packard plant is a bigger version of the Factory at franklin OUT: pride\n",
      "IN: Haha thanks, I'm not cool at all but that comment made my day! Genuinely made me smile. <3 OUT: joy\n",
      "IN: You forgot blue passports OUT: annoyance\n",
      "IN: I'm saying put up or shut up. If you can't back up your point with evidence, your opinion is worthless.  OUT: anger\n",
      "IN: Sorry I thought you called me dumb. Long story. A misunderstanding. Sorry OUT: relief\n",
      "What can i ask a person to give me those outputs when presented with these inputs? Only state one question. A: \n",
      "133\n"
     ]
    },
    {
     "name": "stderr",
     "output_type": "stream",
     "text": [
      "\n",
      "2023-12-06 19:29:01.221940: W tensorflow/core/kernels/data/cache_dataset_ops.cc:854] The calling iterator did not fully read the dataset being cached. In order to avoid unexpected truncation of the dataset, the partially cached contents of the dataset  will be discarded. This can happen if you have an input pipeline similar to `dataset.cache().take(k).repeat()`. You should use `dataset.take(k).cache().repeat()` instead.\n"
     ]
    }
   ],
   "source": [
    "import tensorflow_datasets as tfds\n",
    "import numpy as np\n",
    "from tqdm.auto import tqdm\n",
    "\n",
    "emotions = ['admiration', 'amusement', 'anger', 'annoyance', 'approval', 'caring', 'confusion', 'curiosity', 'desire', 'disappointment', 'disapproval', 'disgust', 'embarrassment', 'excitement', 'fear', 'gratitude', 'grief', 'joy', 'love', 'nervousness', 'neutral', 'optimism', 'pride', 'realization', 'relief', 'remorse', 'sadness', 'surprise']\n",
    "studied_emotions = ['anger', 'annoyance', 'disgust', 'fear', 'grief', 'joy', 'love', 'neutral', 'optimism', 'pride', 'relief', 'sadness', 'surprise']\n",
    "\n",
    "if \"chat\" in llm_path:\n",
    "    meta_prompt_0 = \"Q: A relationship connects these input-output pairs: \\n\"\n",
    "    meta_prompt_1 = \"What can i ask a person to give me those outputs when presented with these inputs? \"\n",
    "    meta_prompt_1 += \"Only state one question. A: \"\n",
    "else:\n",
    "    meta_prompt_0 = \"Q: I gave a person an instruction and some inputs. \" \n",
    "    meta_prompt_0 += \"The person read the instruction and wrote an output for every one of the inputs. \"\n",
    "    meta_prompt_0 += \"Here are the input-output pairs: \\n\"\n",
    "    meta_prompt_1 = \"The instruction was A:\"\n",
    "\n",
    "def get_prompt_examples():\n",
    "    train_ds = tfds.load('huggingface:go_emotions/simplified', split='train')\n",
    "    num_items, num_labels = len(train_ds), len(emotions)\n",
    "    # Turn prefetch dataset into itreable dataset\n",
    "    train_ds = train_ds.as_numpy_iterator()\n",
    "\n",
    "    examples = []\n",
    "    emotions_used = set()\n",
    "    for i in tqdm(range(num_items)):\n",
    "        x = train_ds.next()\n",
    "\n",
    "        extracted_emotions = [i for i in x[\"labels\"] if emotions[i] in studied_emotions]\n",
    "\n",
    "        is_old_emotion = [i in emotions_used for i in extracted_emotions]\n",
    "        if all(is_old_emotion):\n",
    "            continue\n",
    "\n",
    "        x_txt = x[\"text\"].decode('utf-8')\n",
    "\n",
    "        y_txt = \" \".join([emotions[i] for i in extracted_emotions])\n",
    "\n",
    "        for i in extracted_emotions:\n",
    "            emotions_used.add(i)\n",
    "        \n",
    "        examples.append(f\"IN: {x_txt} OUT: {y_txt}\")\n",
    "        #print(x[\"text\"].decode('utf-8'), y_txt)\n",
    "        \n",
    "        #if len(emotions_used) == len(studied_emotions):\n",
    "        #    break\n",
    "        if len(examples) > 5:\n",
    "            break\n",
    "    \n",
    "    return examples\n",
    "\n",
    "ex = get_prompt_examples()\n",
    "print(ex)\n",
    "print(len(ex))\n",
    "meta_prompt = meta_prompt_0 + \"\\n\".join(ex) + \"\\n\" + meta_prompt_1\n",
    "print(meta_prompt)\n",
    "print(len(meta_prompt.split(\" \")))"
   ]
  },
  {
   "cell_type": "code",
   "execution_count": 4,
   "metadata": {},
   "outputs": [],
   "source": [
    "def get_candidate_prompts(prompt, n=500):\n",
    "    prompts = []\n",
    "    for i in range(n):\n",
    "        output = llm(\"Q: \" + prompt + \"A: \", max_tokens=128, stop=[\"Q:\", \"\\n\"], echo=False)\n",
    "        print(output['choices'][0]['text'])\n",
    "        prompts.append(output['choices'][0]['text'])\n",
    "    return prompts"
   ]
  }
 ],
 "metadata": {
  "kernelspec": {
   "display_name": "DS",
   "language": "python",
   "name": "python3"
  },
  "language_info": {
   "codemirror_mode": {
    "name": "ipython",
    "version": 3
   },
   "file_extension": ".py",
   "mimetype": "text/x-python",
   "name": "python",
   "nbconvert_exporter": "python",
   "pygments_lexer": "ipython3",
   "version": "3.8.18"
  }
 },
 "nbformat": 4,
 "nbformat_minor": 2
}
